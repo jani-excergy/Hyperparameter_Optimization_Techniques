{
  "nbformat": 4,
  "nbformat_minor": 0,
  "metadata": {
    "colab": {
      "name": "Genetic Algorithm for  Hyperparameter optimization",
      "provenance": []
    },
    "kernelspec": {
      "name": "python3",
      "display_name": "Python 3"
    },
    "widgets": {
      "application/vnd.jupyter.widget-state+json": {
        "3861bbac8423472fb96e4d19a8a21919": {
          "model_module": "@jupyter-widgets/controls",
          "model_name": "HBoxModel",
          "state": {
            "_view_name": "HBoxView",
            "_dom_classes": [],
            "_model_name": "HBoxModel",
            "_view_module": "@jupyter-widgets/controls",
            "_model_module_version": "1.5.0",
            "_view_count": null,
            "_view_module_version": "1.5.0",
            "box_style": "",
            "layout": "IPY_MODEL_2ca007276b644342a80ebe3aa996672f",
            "_model_module": "@jupyter-widgets/controls",
            "children": [
              "IPY_MODEL_0f9ee788eb1f472799398508b31843ed",
              "IPY_MODEL_449c7033ca3c4953867dd549d802a172"
            ]
          }
        },
        "2ca007276b644342a80ebe3aa996672f": {
          "model_module": "@jupyter-widgets/base",
          "model_name": "LayoutModel",
          "state": {
            "_view_name": "LayoutView",
            "grid_template_rows": null,
            "right": null,
            "justify_content": null,
            "_view_module": "@jupyter-widgets/base",
            "overflow": null,
            "_model_module_version": "1.2.0",
            "_view_count": null,
            "flex_flow": null,
            "width": null,
            "min_width": null,
            "border": null,
            "align_items": null,
            "bottom": null,
            "_model_module": "@jupyter-widgets/base",
            "top": null,
            "grid_column": null,
            "overflow_y": null,
            "overflow_x": null,
            "grid_auto_flow": null,
            "grid_area": null,
            "grid_template_columns": null,
            "flex": null,
            "_model_name": "LayoutModel",
            "justify_items": null,
            "grid_row": null,
            "max_height": null,
            "align_content": null,
            "visibility": null,
            "align_self": null,
            "height": null,
            "min_height": null,
            "padding": null,
            "grid_auto_rows": null,
            "grid_gap": null,
            "max_width": null,
            "order": null,
            "_view_module_version": "1.2.0",
            "grid_template_areas": null,
            "object_position": null,
            "object_fit": null,
            "grid_auto_columns": null,
            "margin": null,
            "display": null,
            "left": null
          }
        },
        "0f9ee788eb1f472799398508b31843ed": {
          "model_module": "@jupyter-widgets/controls",
          "model_name": "FloatProgressModel",
          "state": {
            "_view_name": "ProgressView",
            "style": "IPY_MODEL_f133a40fb371466ba99d8eaa0b714121",
            "_dom_classes": [],
            "description": "Optimization Progress: 100%",
            "_model_name": "FloatProgressModel",
            "bar_style": "",
            "max": 84,
            "_view_module": "@jupyter-widgets/controls",
            "_model_module_version": "1.5.0",
            "value": 84,
            "_view_count": null,
            "_view_module_version": "1.5.0",
            "orientation": "horizontal",
            "min": 0,
            "description_tooltip": null,
            "_model_module": "@jupyter-widgets/controls",
            "layout": "IPY_MODEL_12165ceb75d64050abc637b0c2c72aed"
          }
        },
        "449c7033ca3c4953867dd549d802a172": {
          "model_module": "@jupyter-widgets/controls",
          "model_name": "HTMLModel",
          "state": {
            "_view_name": "HTMLView",
            "style": "IPY_MODEL_e0ea7f04b2b94efa99c5eb260600c8bc",
            "_dom_classes": [],
            "description": "",
            "_model_name": "HTMLModel",
            "placeholder": "​",
            "_view_module": "@jupyter-widgets/controls",
            "_model_module_version": "1.5.0",
            "value": " 84/84 [20:45&lt;00:00, 13.57s/pipeline]",
            "_view_count": null,
            "_view_module_version": "1.5.0",
            "description_tooltip": null,
            "_model_module": "@jupyter-widgets/controls",
            "layout": "IPY_MODEL_a446f024aa0347f8aac7d1a6471f2c6b"
          }
        },
        "f133a40fb371466ba99d8eaa0b714121": {
          "model_module": "@jupyter-widgets/controls",
          "model_name": "ProgressStyleModel",
          "state": {
            "_view_name": "StyleView",
            "_model_name": "ProgressStyleModel",
            "description_width": "initial",
            "_view_module": "@jupyter-widgets/base",
            "_model_module_version": "1.5.0",
            "_view_count": null,
            "_view_module_version": "1.2.0",
            "bar_color": null,
            "_model_module": "@jupyter-widgets/controls"
          }
        },
        "12165ceb75d64050abc637b0c2c72aed": {
          "model_module": "@jupyter-widgets/base",
          "model_name": "LayoutModel",
          "state": {
            "_view_name": "LayoutView",
            "grid_template_rows": null,
            "right": null,
            "justify_content": null,
            "_view_module": "@jupyter-widgets/base",
            "overflow": null,
            "_model_module_version": "1.2.0",
            "_view_count": null,
            "flex_flow": null,
            "width": null,
            "min_width": null,
            "border": null,
            "align_items": null,
            "bottom": null,
            "_model_module": "@jupyter-widgets/base",
            "top": null,
            "grid_column": null,
            "overflow_y": null,
            "overflow_x": null,
            "grid_auto_flow": null,
            "grid_area": null,
            "grid_template_columns": null,
            "flex": null,
            "_model_name": "LayoutModel",
            "justify_items": null,
            "grid_row": null,
            "max_height": null,
            "align_content": null,
            "visibility": null,
            "align_self": null,
            "height": null,
            "min_height": null,
            "padding": null,
            "grid_auto_rows": null,
            "grid_gap": null,
            "max_width": null,
            "order": null,
            "_view_module_version": "1.2.0",
            "grid_template_areas": null,
            "object_position": null,
            "object_fit": null,
            "grid_auto_columns": null,
            "margin": null,
            "display": null,
            "left": null
          }
        },
        "e0ea7f04b2b94efa99c5eb260600c8bc": {
          "model_module": "@jupyter-widgets/controls",
          "model_name": "DescriptionStyleModel",
          "state": {
            "_view_name": "StyleView",
            "_model_name": "DescriptionStyleModel",
            "description_width": "",
            "_view_module": "@jupyter-widgets/base",
            "_model_module_version": "1.5.0",
            "_view_count": null,
            "_view_module_version": "1.2.0",
            "_model_module": "@jupyter-widgets/controls"
          }
        },
        "a446f024aa0347f8aac7d1a6471f2c6b": {
          "model_module": "@jupyter-widgets/base",
          "model_name": "LayoutModel",
          "state": {
            "_view_name": "LayoutView",
            "grid_template_rows": null,
            "right": null,
            "justify_content": null,
            "_view_module": "@jupyter-widgets/base",
            "overflow": null,
            "_model_module_version": "1.2.0",
            "_view_count": null,
            "flex_flow": null,
            "width": null,
            "min_width": null,
            "border": null,
            "align_items": null,
            "bottom": null,
            "_model_module": "@jupyter-widgets/base",
            "top": null,
            "grid_column": null,
            "overflow_y": null,
            "overflow_x": null,
            "grid_auto_flow": null,
            "grid_area": null,
            "grid_template_columns": null,
            "flex": null,
            "_model_name": "LayoutModel",
            "justify_items": null,
            "grid_row": null,
            "max_height": null,
            "align_content": null,
            "visibility": null,
            "align_self": null,
            "height": null,
            "min_height": null,
            "padding": null,
            "grid_auto_rows": null,
            "grid_gap": null,
            "max_width": null,
            "order": null,
            "_view_module_version": "1.2.0",
            "grid_template_areas": null,
            "object_position": null,
            "object_fit": null,
            "grid_auto_columns": null,
            "margin": null,
            "display": null,
            "left": null
          }
        }
      }
    }
  },
  "cells": [
    {
      "cell_type": "code",
      "metadata": {
        "id": "2DoYOqbcKLs9",
        "colab_type": "code",
        "colab": {}
      },
      "source": [
        "!pip install -U -q PyDrive\n",
        "from pydrive.auth import GoogleAuth\n",
        "from pydrive.drive import GoogleDrive\n",
        "from google.colab import auth\n",
        "from oauth2client.client import GoogleCredentials"
      ],
      "execution_count": 1,
      "outputs": []
    },
    {
      "cell_type": "code",
      "metadata": {
        "id": "uWtHO40WK4v9",
        "colab_type": "code",
        "colab": {}
      },
      "source": [
        "auth.authenticate_user()\n",
        "gauth = GoogleAuth()\n",
        "gauth.credentials = GoogleCredentials.get_application_default()\n",
        "drive = GoogleDrive(gauth)"
      ],
      "execution_count": 2,
      "outputs": []
    },
    {
      "cell_type": "code",
      "metadata": {
        "id": "pEKf_CDSLHQF",
        "colab_type": "code",
        "colab": {}
      },
      "source": [
        "downloaded = drive.CreateFile({'id':'1Blpp94I9dOaMt7V4nB-0meR4FygacAwN'}) # replace the id with id of file you want to access\n",
        "downloaded.GetContentFile('Real_combine.csv') "
      ],
      "execution_count": 3,
      "outputs": []
    },
    {
      "cell_type": "code",
      "metadata": {
        "id": "s44DQVIPLR0H",
        "colab_type": "code",
        "colab": {}
      },
      "source": [
        "import pandas as pd\n"
      ],
      "execution_count": 5,
      "outputs": []
    },
    {
      "cell_type": "code",
      "metadata": {
        "id": "VZy3m14ULTMW",
        "colab_type": "code",
        "colab": {}
      },
      "source": [
        "df=pd.read_csv('Real_combine.csv')"
      ],
      "execution_count": 6,
      "outputs": []
    },
    {
      "cell_type": "code",
      "metadata": {
        "id": "rbkEyDjNLcxn",
        "colab_type": "code",
        "colab": {
          "base_uri": "https://localhost:8080/",
          "height": 415
        },
        "outputId": "3a2e3a92-f124-4208-ede9-66cfb479575d"
      },
      "source": [
        "df"
      ],
      "execution_count": 7,
      "outputs": [
        {
          "output_type": "execute_result",
          "data": {
            "text/html": [
              "<div>\n",
              "<style scoped>\n",
              "    .dataframe tbody tr th:only-of-type {\n",
              "        vertical-align: middle;\n",
              "    }\n",
              "\n",
              "    .dataframe tbody tr th {\n",
              "        vertical-align: top;\n",
              "    }\n",
              "\n",
              "    .dataframe thead th {\n",
              "        text-align: right;\n",
              "    }\n",
              "</style>\n",
              "<table border=\"1\" class=\"dataframe\">\n",
              "  <thead>\n",
              "    <tr style=\"text-align: right;\">\n",
              "      <th></th>\n",
              "      <th>Unnamed: 0</th>\n",
              "      <th>T</th>\n",
              "      <th>TM</th>\n",
              "      <th>Tm</th>\n",
              "      <th>SLP</th>\n",
              "      <th>H</th>\n",
              "      <th>VV</th>\n",
              "      <th>V</th>\n",
              "      <th>VM</th>\n",
              "      <th>PM 2.5</th>\n",
              "    </tr>\n",
              "  </thead>\n",
              "  <tbody>\n",
              "    <tr>\n",
              "      <th>0</th>\n",
              "      <td>1</td>\n",
              "      <td>26.7</td>\n",
              "      <td>33.0</td>\n",
              "      <td>20.0</td>\n",
              "      <td>1012.4</td>\n",
              "      <td>60.0</td>\n",
              "      <td>5.1</td>\n",
              "      <td>4.4</td>\n",
              "      <td>13.0</td>\n",
              "      <td>284.795833</td>\n",
              "    </tr>\n",
              "    <tr>\n",
              "      <th>1</th>\n",
              "      <td>3</td>\n",
              "      <td>29.1</td>\n",
              "      <td>35.0</td>\n",
              "      <td>20.5</td>\n",
              "      <td>1011.9</td>\n",
              "      <td>49.0</td>\n",
              "      <td>5.8</td>\n",
              "      <td>5.2</td>\n",
              "      <td>14.8</td>\n",
              "      <td>219.720833</td>\n",
              "    </tr>\n",
              "    <tr>\n",
              "      <th>2</th>\n",
              "      <td>5</td>\n",
              "      <td>28.4</td>\n",
              "      <td>36.0</td>\n",
              "      <td>21.0</td>\n",
              "      <td>1011.3</td>\n",
              "      <td>46.0</td>\n",
              "      <td>5.3</td>\n",
              "      <td>5.7</td>\n",
              "      <td>11.1</td>\n",
              "      <td>182.187500</td>\n",
              "    </tr>\n",
              "    <tr>\n",
              "      <th>3</th>\n",
              "      <td>7</td>\n",
              "      <td>25.9</td>\n",
              "      <td>32.0</td>\n",
              "      <td>20.0</td>\n",
              "      <td>1011.8</td>\n",
              "      <td>56.0</td>\n",
              "      <td>6.1</td>\n",
              "      <td>6.9</td>\n",
              "      <td>11.1</td>\n",
              "      <td>154.037500</td>\n",
              "    </tr>\n",
              "    <tr>\n",
              "      <th>4</th>\n",
              "      <td>9</td>\n",
              "      <td>24.8</td>\n",
              "      <td>31.1</td>\n",
              "      <td>20.6</td>\n",
              "      <td>1013.6</td>\n",
              "      <td>58.0</td>\n",
              "      <td>4.8</td>\n",
              "      <td>8.3</td>\n",
              "      <td>11.1</td>\n",
              "      <td>223.208333</td>\n",
              "    </tr>\n",
              "    <tr>\n",
              "      <th>...</th>\n",
              "      <td>...</td>\n",
              "      <td>...</td>\n",
              "      <td>...</td>\n",
              "      <td>...</td>\n",
              "      <td>...</td>\n",
              "      <td>...</td>\n",
              "      <td>...</td>\n",
              "      <td>...</td>\n",
              "      <td>...</td>\n",
              "      <td>...</td>\n",
              "    </tr>\n",
              "    <tr>\n",
              "      <th>638</th>\n",
              "      <td>1277</td>\n",
              "      <td>28.5</td>\n",
              "      <td>33.4</td>\n",
              "      <td>20.9</td>\n",
              "      <td>1012.6</td>\n",
              "      <td>59.0</td>\n",
              "      <td>5.3</td>\n",
              "      <td>6.3</td>\n",
              "      <td>14.8</td>\n",
              "      <td>185.500000</td>\n",
              "    </tr>\n",
              "    <tr>\n",
              "      <th>639</th>\n",
              "      <td>1279</td>\n",
              "      <td>24.9</td>\n",
              "      <td>33.2</td>\n",
              "      <td>14.8</td>\n",
              "      <td>1011.5</td>\n",
              "      <td>48.0</td>\n",
              "      <td>4.2</td>\n",
              "      <td>4.6</td>\n",
              "      <td>13.0</td>\n",
              "      <td>166.875000</td>\n",
              "    </tr>\n",
              "    <tr>\n",
              "      <th>640</th>\n",
              "      <td>1281</td>\n",
              "      <td>26.4</td>\n",
              "      <td>32.0</td>\n",
              "      <td>20.9</td>\n",
              "      <td>1011.2</td>\n",
              "      <td>70.0</td>\n",
              "      <td>3.9</td>\n",
              "      <td>6.7</td>\n",
              "      <td>9.4</td>\n",
              "      <td>200.333333</td>\n",
              "    </tr>\n",
              "    <tr>\n",
              "      <th>641</th>\n",
              "      <td>1283</td>\n",
              "      <td>20.8</td>\n",
              "      <td>25.0</td>\n",
              "      <td>14.5</td>\n",
              "      <td>1016.8</td>\n",
              "      <td>78.0</td>\n",
              "      <td>4.7</td>\n",
              "      <td>5.9</td>\n",
              "      <td>11.1</td>\n",
              "      <td>349.291667</td>\n",
              "    </tr>\n",
              "    <tr>\n",
              "      <th>642</th>\n",
              "      <td>1285</td>\n",
              "      <td>23.3</td>\n",
              "      <td>28.0</td>\n",
              "      <td>14.9</td>\n",
              "      <td>1014.0</td>\n",
              "      <td>71.0</td>\n",
              "      <td>4.5</td>\n",
              "      <td>3.0</td>\n",
              "      <td>9.4</td>\n",
              "      <td>310.250000</td>\n",
              "    </tr>\n",
              "  </tbody>\n",
              "</table>\n",
              "<p>643 rows × 10 columns</p>\n",
              "</div>"
            ],
            "text/plain": [
              "     Unnamed: 0     T    TM    Tm     SLP     H   VV    V    VM      PM 2.5\n",
              "0             1  26.7  33.0  20.0  1012.4  60.0  5.1  4.4  13.0  284.795833\n",
              "1             3  29.1  35.0  20.5  1011.9  49.0  5.8  5.2  14.8  219.720833\n",
              "2             5  28.4  36.0  21.0  1011.3  46.0  5.3  5.7  11.1  182.187500\n",
              "3             7  25.9  32.0  20.0  1011.8  56.0  6.1  6.9  11.1  154.037500\n",
              "4             9  24.8  31.1  20.6  1013.6  58.0  4.8  8.3  11.1  223.208333\n",
              "..          ...   ...   ...   ...     ...   ...  ...  ...   ...         ...\n",
              "638        1277  28.5  33.4  20.9  1012.6  59.0  5.3  6.3  14.8  185.500000\n",
              "639        1279  24.9  33.2  14.8  1011.5  48.0  4.2  4.6  13.0  166.875000\n",
              "640        1281  26.4  32.0  20.9  1011.2  70.0  3.9  6.7   9.4  200.333333\n",
              "641        1283  20.8  25.0  14.5  1016.8  78.0  4.7  5.9  11.1  349.291667\n",
              "642        1285  23.3  28.0  14.9  1014.0  71.0  4.5  3.0   9.4  310.250000\n",
              "\n",
              "[643 rows x 10 columns]"
            ]
          },
          "metadata": {
            "tags": []
          },
          "execution_count": 7
        }
      ]
    },
    {
      "cell_type": "code",
      "metadata": {
        "id": "vfpdaCP9LdpK",
        "colab_type": "code",
        "colab": {}
      },
      "source": [
        "df.drop(['Unnamed: 0'],axis=1,inplace=True)"
      ],
      "execution_count": 8,
      "outputs": []
    },
    {
      "cell_type": "code",
      "metadata": {
        "id": "ZnbR6ZoILjKW",
        "colab_type": "code",
        "colab": {
          "base_uri": "https://localhost:8080/",
          "height": 415
        },
        "outputId": "c12aeeee-89f5-439d-91fa-807038579182"
      },
      "source": [
        "df"
      ],
      "execution_count": 9,
      "outputs": [
        {
          "output_type": "execute_result",
          "data": {
            "text/html": [
              "<div>\n",
              "<style scoped>\n",
              "    .dataframe tbody tr th:only-of-type {\n",
              "        vertical-align: middle;\n",
              "    }\n",
              "\n",
              "    .dataframe tbody tr th {\n",
              "        vertical-align: top;\n",
              "    }\n",
              "\n",
              "    .dataframe thead th {\n",
              "        text-align: right;\n",
              "    }\n",
              "</style>\n",
              "<table border=\"1\" class=\"dataframe\">\n",
              "  <thead>\n",
              "    <tr style=\"text-align: right;\">\n",
              "      <th></th>\n",
              "      <th>T</th>\n",
              "      <th>TM</th>\n",
              "      <th>Tm</th>\n",
              "      <th>SLP</th>\n",
              "      <th>H</th>\n",
              "      <th>VV</th>\n",
              "      <th>V</th>\n",
              "      <th>VM</th>\n",
              "      <th>PM 2.5</th>\n",
              "    </tr>\n",
              "  </thead>\n",
              "  <tbody>\n",
              "    <tr>\n",
              "      <th>0</th>\n",
              "      <td>26.7</td>\n",
              "      <td>33.0</td>\n",
              "      <td>20.0</td>\n",
              "      <td>1012.4</td>\n",
              "      <td>60.0</td>\n",
              "      <td>5.1</td>\n",
              "      <td>4.4</td>\n",
              "      <td>13.0</td>\n",
              "      <td>284.795833</td>\n",
              "    </tr>\n",
              "    <tr>\n",
              "      <th>1</th>\n",
              "      <td>29.1</td>\n",
              "      <td>35.0</td>\n",
              "      <td>20.5</td>\n",
              "      <td>1011.9</td>\n",
              "      <td>49.0</td>\n",
              "      <td>5.8</td>\n",
              "      <td>5.2</td>\n",
              "      <td>14.8</td>\n",
              "      <td>219.720833</td>\n",
              "    </tr>\n",
              "    <tr>\n",
              "      <th>2</th>\n",
              "      <td>28.4</td>\n",
              "      <td>36.0</td>\n",
              "      <td>21.0</td>\n",
              "      <td>1011.3</td>\n",
              "      <td>46.0</td>\n",
              "      <td>5.3</td>\n",
              "      <td>5.7</td>\n",
              "      <td>11.1</td>\n",
              "      <td>182.187500</td>\n",
              "    </tr>\n",
              "    <tr>\n",
              "      <th>3</th>\n",
              "      <td>25.9</td>\n",
              "      <td>32.0</td>\n",
              "      <td>20.0</td>\n",
              "      <td>1011.8</td>\n",
              "      <td>56.0</td>\n",
              "      <td>6.1</td>\n",
              "      <td>6.9</td>\n",
              "      <td>11.1</td>\n",
              "      <td>154.037500</td>\n",
              "    </tr>\n",
              "    <tr>\n",
              "      <th>4</th>\n",
              "      <td>24.8</td>\n",
              "      <td>31.1</td>\n",
              "      <td>20.6</td>\n",
              "      <td>1013.6</td>\n",
              "      <td>58.0</td>\n",
              "      <td>4.8</td>\n",
              "      <td>8.3</td>\n",
              "      <td>11.1</td>\n",
              "      <td>223.208333</td>\n",
              "    </tr>\n",
              "    <tr>\n",
              "      <th>...</th>\n",
              "      <td>...</td>\n",
              "      <td>...</td>\n",
              "      <td>...</td>\n",
              "      <td>...</td>\n",
              "      <td>...</td>\n",
              "      <td>...</td>\n",
              "      <td>...</td>\n",
              "      <td>...</td>\n",
              "      <td>...</td>\n",
              "    </tr>\n",
              "    <tr>\n",
              "      <th>638</th>\n",
              "      <td>28.5</td>\n",
              "      <td>33.4</td>\n",
              "      <td>20.9</td>\n",
              "      <td>1012.6</td>\n",
              "      <td>59.0</td>\n",
              "      <td>5.3</td>\n",
              "      <td>6.3</td>\n",
              "      <td>14.8</td>\n",
              "      <td>185.500000</td>\n",
              "    </tr>\n",
              "    <tr>\n",
              "      <th>639</th>\n",
              "      <td>24.9</td>\n",
              "      <td>33.2</td>\n",
              "      <td>14.8</td>\n",
              "      <td>1011.5</td>\n",
              "      <td>48.0</td>\n",
              "      <td>4.2</td>\n",
              "      <td>4.6</td>\n",
              "      <td>13.0</td>\n",
              "      <td>166.875000</td>\n",
              "    </tr>\n",
              "    <tr>\n",
              "      <th>640</th>\n",
              "      <td>26.4</td>\n",
              "      <td>32.0</td>\n",
              "      <td>20.9</td>\n",
              "      <td>1011.2</td>\n",
              "      <td>70.0</td>\n",
              "      <td>3.9</td>\n",
              "      <td>6.7</td>\n",
              "      <td>9.4</td>\n",
              "      <td>200.333333</td>\n",
              "    </tr>\n",
              "    <tr>\n",
              "      <th>641</th>\n",
              "      <td>20.8</td>\n",
              "      <td>25.0</td>\n",
              "      <td>14.5</td>\n",
              "      <td>1016.8</td>\n",
              "      <td>78.0</td>\n",
              "      <td>4.7</td>\n",
              "      <td>5.9</td>\n",
              "      <td>11.1</td>\n",
              "      <td>349.291667</td>\n",
              "    </tr>\n",
              "    <tr>\n",
              "      <th>642</th>\n",
              "      <td>23.3</td>\n",
              "      <td>28.0</td>\n",
              "      <td>14.9</td>\n",
              "      <td>1014.0</td>\n",
              "      <td>71.0</td>\n",
              "      <td>4.5</td>\n",
              "      <td>3.0</td>\n",
              "      <td>9.4</td>\n",
              "      <td>310.250000</td>\n",
              "    </tr>\n",
              "  </tbody>\n",
              "</table>\n",
              "<p>643 rows × 9 columns</p>\n",
              "</div>"
            ],
            "text/plain": [
              "        T    TM    Tm     SLP     H   VV    V    VM      PM 2.5\n",
              "0    26.7  33.0  20.0  1012.4  60.0  5.1  4.4  13.0  284.795833\n",
              "1    29.1  35.0  20.5  1011.9  49.0  5.8  5.2  14.8  219.720833\n",
              "2    28.4  36.0  21.0  1011.3  46.0  5.3  5.7  11.1  182.187500\n",
              "3    25.9  32.0  20.0  1011.8  56.0  6.1  6.9  11.1  154.037500\n",
              "4    24.8  31.1  20.6  1013.6  58.0  4.8  8.3  11.1  223.208333\n",
              "..    ...   ...   ...     ...   ...  ...  ...   ...         ...\n",
              "638  28.5  33.4  20.9  1012.6  59.0  5.3  6.3  14.8  185.500000\n",
              "639  24.9  33.2  14.8  1011.5  48.0  4.2  4.6  13.0  166.875000\n",
              "640  26.4  32.0  20.9  1011.2  70.0  3.9  6.7   9.4  200.333333\n",
              "641  20.8  25.0  14.5  1016.8  78.0  4.7  5.9  11.1  349.291667\n",
              "642  23.3  28.0  14.9  1014.0  71.0  4.5  3.0   9.4  310.250000\n",
              "\n",
              "[643 rows x 9 columns]"
            ]
          },
          "metadata": {
            "tags": []
          },
          "execution_count": 9
        }
      ]
    },
    {
      "cell_type": "code",
      "metadata": {
        "id": "E-20Y8ICLkbm",
        "colab_type": "code",
        "colab": {
          "base_uri": "https://localhost:8080/",
          "height": 575
        },
        "outputId": "3e68ae2d-8672-483e-d8df-b8c17680e22c"
      },
      "source": [
        "!pip install tpot"
      ],
      "execution_count": 59,
      "outputs": [
        {
          "output_type": "stream",
          "text": [
            "Collecting tpot\n",
            "\u001b[?25l  Downloading https://files.pythonhosted.org/packages/14/5e/cb87b0257033a7a396e533a634079ee151a239d180efe2a8b1d2e3584d23/TPOT-0.11.5-py3-none-any.whl (82kB)\n",
            "     |████████████████████████████████| 92kB 2.3MB/s \n",
            "\u001b[?25hRequirement already satisfied: numpy>=1.16.3 in /usr/local/lib/python3.6/dist-packages (from tpot) (1.18.5)\n",
            "Collecting deap>=1.2\n",
            "\u001b[?25l  Downloading https://files.pythonhosted.org/packages/0a/eb/2bd0a32e3ce757fb26264765abbaedd6d4d3640d90219a513aeabd08ee2b/deap-1.3.1-cp36-cp36m-manylinux2010_x86_64.whl (157kB)\n",
            "     |████████████████████████████████| 163kB 8.1MB/s \n",
            "\u001b[?25hRequirement already satisfied: tqdm>=4.36.1 in /usr/local/lib/python3.6/dist-packages (from tpot) (4.41.1)\n",
            "Collecting stopit>=1.1.1\n",
            "  Downloading https://files.pythonhosted.org/packages/35/58/e8bb0b0fb05baf07bbac1450c447d753da65f9701f551dca79823ce15d50/stopit-1.1.2.tar.gz\n",
            "Requirement already satisfied: scikit-learn>=0.22.0 in /usr/local/lib/python3.6/dist-packages (from tpot) (0.22.2.post1)\n",
            "Collecting update-checker>=0.16\n",
            "  Downloading https://files.pythonhosted.org/packages/0c/ba/8dd7fa5f0b1c6a8ac62f8f57f7e794160c1f86f31c6d0fb00f582372a3e4/update_checker-0.18.0-py3-none-any.whl\n",
            "Requirement already satisfied: scipy>=1.3.1 in /usr/local/lib/python3.6/dist-packages (from tpot) (1.4.1)\n",
            "Requirement already satisfied: joblib>=0.13.2 in /usr/local/lib/python3.6/dist-packages (from tpot) (0.16.0)\n",
            "Requirement already satisfied: pandas>=0.24.2 in /usr/local/lib/python3.6/dist-packages (from tpot) (1.0.5)\n",
            "Requirement already satisfied: requests>=2.3.0 in /usr/local/lib/python3.6/dist-packages (from update-checker>=0.16->tpot) (2.23.0)\n",
            "Requirement already satisfied: pytz>=2017.2 in /usr/local/lib/python3.6/dist-packages (from pandas>=0.24.2->tpot) (2018.9)\n",
            "Requirement already satisfied: python-dateutil>=2.6.1 in /usr/local/lib/python3.6/dist-packages (from pandas>=0.24.2->tpot) (2.8.1)\n",
            "Requirement already satisfied: certifi>=2017.4.17 in /usr/local/lib/python3.6/dist-packages (from requests>=2.3.0->update-checker>=0.16->tpot) (2020.6.20)\n",
            "Requirement already satisfied: idna<3,>=2.5 in /usr/local/lib/python3.6/dist-packages (from requests>=2.3.0->update-checker>=0.16->tpot) (2.10)\n",
            "Requirement already satisfied: chardet<4,>=3.0.2 in /usr/local/lib/python3.6/dist-packages (from requests>=2.3.0->update-checker>=0.16->tpot) (3.0.4)\n",
            "Requirement already satisfied: urllib3!=1.25.0,!=1.25.1,<1.26,>=1.21.1 in /usr/local/lib/python3.6/dist-packages (from requests>=2.3.0->update-checker>=0.16->tpot) (1.24.3)\n",
            "Requirement already satisfied: six>=1.5 in /usr/local/lib/python3.6/dist-packages (from python-dateutil>=2.6.1->pandas>=0.24.2->tpot) (1.15.0)\n",
            "Building wheels for collected packages: stopit\n",
            "  Building wheel for stopit (setup.py) ... \u001b[?25l\u001b[?25hdone\n",
            "  Created wheel for stopit: filename=stopit-1.1.2-cp36-none-any.whl size=11956 sha256=12e46418b631250d02078013e2385809587007e2ad253511381977eb09d418cd\n",
            "  Stored in directory: /root/.cache/pip/wheels/3c/85/2b/2580190404636bfc63e8de3dff629c03bb795021e1983a6cc7\n",
            "Successfully built stopit\n",
            "Installing collected packages: deap, stopit, update-checker, tpot\n",
            "Successfully installed deap-1.3.1 stopit-1.1.2 tpot-0.11.5 update-checker-0.18.0\n"
          ],
          "name": "stdout"
        }
      ]
    },
    {
      "cell_type": "code",
      "metadata": {
        "id": "z40KfkteL_By",
        "colab_type": "code",
        "colab": {}
      },
      "source": [
        "import sklearn\n",
        "from sklearn.ensemble import RandomForestRegressor\n",
        "from sklearn.model_selection import cross_val_score\n",
        "from sklearn.model_selection import train_test_split"
      ],
      "execution_count": 60,
      "outputs": []
    },
    {
      "cell_type": "code",
      "metadata": {
        "id": "BfInRf7-MSIq",
        "colab_type": "code",
        "colab": {}
      },
      "source": [
        "# Hyperparameter ranges\n",
        "\n",
        "import numpy as np\n",
        "\n",
        "# Number of trees in random forest\n",
        "n_estimators = [int(x) for x in np.linspace(start = 200, stop = 2000, num = 10)]\n",
        "# Number of features to consider at every split\n",
        "max_features = ['auto', 'sqrt','log2']\n",
        "# Maximum number of levels in tree\n",
        "max_depth = [int(x) for x in np.linspace(10, 1000,10)]\n",
        "# Minimum number of samples required to split a node\n",
        "min_samples_split = [2, 5, 10,14]\n",
        "# Minimum number of samples required at each leaf node\n",
        "min_samples_leaf = [1, 2, 4,6,8]\n",
        "# Create the random grid\n",
        "param = {'n_estimators': n_estimators,\n",
        "               'max_features': max_features,\n",
        "               'max_depth': max_depth,\n",
        "               'min_samples_split': min_samples_split,\n",
        "               'min_samples_leaf': min_samples_leaf,\n",
        "              'criterion':['mse','mae']}\n"
      ],
      "execution_count": 61,
      "outputs": []
    },
    {
      "cell_type": "code",
      "metadata": {
        "id": "6WxglXUsMUEc",
        "colab_type": "code",
        "colab": {}
      },
      "source": [
        "\n",
        "X=df.iloc[:,:-1]\n",
        "y=df.iloc[:,-1]\n",
        "\n",
        "X_train,X_test,y_train,y_test=train_test_split(X,y,test_size=0.20,random_state=0)\n",
        "\n",
        "\n"
      ],
      "execution_count": 62,
      "outputs": []
    },
    {
      "cell_type": "code",
      "metadata": {
        "id": "QW1K1kAvNmT4",
        "colab_type": "code",
        "colab": {
          "base_uri": "https://localhost:8080/",
          "height": 887,
          "referenced_widgets": [
            "3861bbac8423472fb96e4d19a8a21919",
            "2ca007276b644342a80ebe3aa996672f",
            "0f9ee788eb1f472799398508b31843ed",
            "449c7033ca3c4953867dd549d802a172",
            "f133a40fb371466ba99d8eaa0b714121",
            "12165ceb75d64050abc637b0c2c72aed",
            "e0ea7f04b2b94efa99c5eb260600c8bc",
            "a446f024aa0347f8aac7d1a6471f2c6b"
          ]
        },
        "outputId": "796b4229-11ad-4415-e1f0-d3e30dc7368a"
      },
      "source": [
        "from tpot import TPOTRegressor\n",
        "\n",
        "\n",
        "tpot_regressor = TPOTRegressor(generations= 5, population_size= 24, offspring_size= 12,\n",
        "                                 verbosity= 2, early_stop= 12,\n",
        "                                 config_dict={'sklearn.ensemble.RandomForestRegressor': param}, \n",
        "                                 cv = 4)\n",
        "tpot_regressor.fit(X_train,y_train)"
      ],
      "execution_count": 66,
      "outputs": [
        {
          "output_type": "display_data",
          "data": {
            "application/vnd.jupyter.widget-view+json": {
              "model_id": "3861bbac8423472fb96e4d19a8a21919",
              "version_minor": 0,
              "version_major": 2
            },
            "text/plain": [
              "HBox(children=(FloatProgress(value=0.0, description='Optimization Progress', max=84.0, style=ProgressStyle(des…"
            ]
          },
          "metadata": {
            "tags": []
          }
        },
        {
          "output_type": "stream",
          "text": [
            "\n",
            "Generation 1 - Current best internal CV score: -3336.187992566079\n",
            "Generation 2 - Current best internal CV score: -3336.187992566079\n",
            "Generation 3 - Current best internal CV score: -3335.2500905529214\n",
            "Generation 4 - Current best internal CV score: -3335.2500905529214\n",
            "\n",
            "Best pipeline: RandomForestRegressor(input_matrix, criterion=mse, max_depth=230, max_features=sqrt, min_samples_leaf=8, min_samples_split=10, n_estimators=400)\n"
          ],
          "name": "stdout"
        },
        {
          "output_type": "execute_result",
          "data": {
            "text/plain": [
              "TPOTRegressor(config_dict={'sklearn.ensemble.RandomForestRegressor': {'criterion': ['mse',\n",
              "                                                                                    'mae'],\n",
              "                                                                      'max_depth': [10,\n",
              "                                                                                    120,\n",
              "                                                                                    230,\n",
              "                                                                                    340,\n",
              "                                                                                    450,\n",
              "                                                                                    560,\n",
              "                                                                                    670,\n",
              "                                                                                    780,\n",
              "                                                                                    890,\n",
              "                                                                                    1000],\n",
              "                                                                      'max_features': ['auto',\n",
              "                                                                                       'sqrt',\n",
              "                                                                                       'log2'],\n",
              "                                                                      'min_samples_leaf': [1,\n",
              "                                                                                           2,\n",
              "                                                                                           4,\n",
              "                                                                                           6,\n",
              "                                                                                           8],\n",
              "                                                                      'min_samples_split': [2,\n",
              "                                                                                            5,\n",
              "                                                                                            10,\n",
              "                                                                                            14],\n",
              "                                                                      'n_estimators': [200,\n",
              "                                                                                       400,\n",
              "                                                                                       600,\n",
              "                                                                                       800,\n",
              "                                                                                       1000,\n",
              "                                                                                       1200,\n",
              "                                                                                       1400,\n",
              "                                                                                       1600,\n",
              "                                                                                       1800,\n",
              "                                                                                       2000]}},\n",
              "              crossover_rate=0.1, cv=4, disable_upd...se,\n",
              "              early_stop=12, generations=5,\n",
              "              log_file=<colorama.ansitowin32.StreamWrapper object at 0x7f432c7be588>,\n",
              "              max_eval_time_mins=5, max_time_mins=None, memory=None,\n",
              "              mutation_rate=0.9, n_jobs=1, offspring_size=12,\n",
              "              periodic_checkpoint_folder=None, population_size=24,\n",
              "              random_state=None, scoring=None, subsample=1.0, template=None,\n",
              "              use_dask=False, verbosity=2, warm_start=False)"
            ]
          },
          "metadata": {
            "tags": []
          },
          "execution_count": 66
        }
      ]
    },
    {
      "cell_type": "code",
      "metadata": {
        "id": "C-EOIOBzOxO_",
        "colab_type": "code",
        "colab": {
          "base_uri": "https://localhost:8080/",
          "height": 35
        },
        "outputId": "089500ee-85db-43f1-e41c-da3d888810a6"
      },
      "source": [
        "\n",
        "score = tpot_regressor.score(X_test, y_test)\n",
        "print(score)"
      ],
      "execution_count": 68,
      "outputs": [
        {
          "output_type": "stream",
          "text": [
            "-3527.209616942385\n"
          ],
          "name": "stdout"
        }
      ]
    },
    {
      "cell_type": "code",
      "metadata": {
        "id": "OLrUzdNlPAnf",
        "colab_type": "code",
        "colab": {}
      },
      "source": [
        "y_prediction=tpot_regressor.predict(X_test)"
      ],
      "execution_count": 70,
      "outputs": []
    },
    {
      "cell_type": "code",
      "metadata": {
        "id": "r5z-DhSuPMF8",
        "colab_type": "code",
        "colab": {
          "base_uri": "https://localhost:8080/",
          "height": 35
        },
        "outputId": "149c7a6b-edd6-4c7f-bccb-8963968e3642"
      },
      "source": [
        "sklearn.metrics.mean_squared_error(y_test,y_prediction)"
      ],
      "execution_count": 72,
      "outputs": [
        {
          "output_type": "execute_result",
          "data": {
            "text/plain": [
              "3527.209616942385"
            ]
          },
          "metadata": {
            "tags": []
          },
          "execution_count": 72
        }
      ]
    },
    {
      "cell_type": "code",
      "metadata": {
        "id": "PCjQ2JSF4qST",
        "colab_type": "code",
        "colab": {}
      },
      "source": [
        ""
      ],
      "execution_count": 72,
      "outputs": []
    },
    {
      "cell_type": "code",
      "metadata": {
        "id": "vA60S3qo45XZ",
        "colab_type": "code",
        "colab": {}
      },
      "source": [
        "\n"
      ],
      "execution_count": 30,
      "outputs": []
    },
    {
      "cell_type": "code",
      "metadata": {
        "id": "4MqTvoF55iCj",
        "colab_type": "code",
        "colab": {}
      },
      "source": [
        ""
      ],
      "execution_count": null,
      "outputs": []
    },
    {
      "cell_type": "code",
      "metadata": {
        "id": "iSkxGWYX5VB9",
        "colab_type": "code",
        "colab": {}
      },
      "source": [
        ""
      ],
      "execution_count": 72,
      "outputs": []
    },
    {
      "cell_type": "code",
      "metadata": {
        "id": "9hKdaSsA5gDF",
        "colab_type": "code",
        "colab": {}
      },
      "source": [
        ""
      ],
      "execution_count": 72,
      "outputs": []
    },
    {
      "cell_type": "code",
      "metadata": {
        "id": "MAFLPxhE5xmW",
        "colab_type": "code",
        "colab": {}
      },
      "source": [
        ""
      ],
      "execution_count": 72,
      "outputs": []
    },
    {
      "cell_type": "code",
      "metadata": {
        "id": "0PVYyDK76Pat",
        "colab_type": "code",
        "colab": {}
      },
      "source": [
        ""
      ],
      "execution_count": 72,
      "outputs": []
    },
    {
      "cell_type": "code",
      "metadata": {
        "id": "LB_bvYZu52qe",
        "colab_type": "code",
        "colab": {}
      },
      "source": [
        ""
      ],
      "execution_count": 72,
      "outputs": []
    },
    {
      "cell_type": "code",
      "metadata": {
        "id": "xkLC9qK95-bC",
        "colab_type": "code",
        "colab": {}
      },
      "source": [
        ""
      ],
      "execution_count": 72,
      "outputs": []
    },
    {
      "cell_type": "code",
      "metadata": {
        "id": "XFF1FRok6bA6",
        "colab_type": "code",
        "colab": {}
      },
      "source": [
        ""
      ],
      "execution_count": 72,
      "outputs": []
    },
    {
      "cell_type": "code",
      "metadata": {
        "id": "Y7nTC6RR6mb9",
        "colab_type": "code",
        "colab": {}
      },
      "source": [
        ""
      ],
      "execution_count": 72,
      "outputs": []
    },
    {
      "cell_type": "code",
      "metadata": {
        "id": "SVJS_2i26rYU",
        "colab_type": "code",
        "colab": {}
      },
      "source": [
        ""
      ],
      "execution_count": 72,
      "outputs": []
    },
    {
      "cell_type": "code",
      "metadata": {
        "id": "kX1_5Z8L8dsM",
        "colab_type": "code",
        "colab": {}
      },
      "source": [
        ""
      ],
      "execution_count": 72,
      "outputs": []
    },
    {
      "cell_type": "code",
      "metadata": {
        "id": "KOCqWX_M8mkQ",
        "colab_type": "code",
        "colab": {}
      },
      "source": [
        ""
      ],
      "execution_count": null,
      "outputs": []
    }
  ]
}