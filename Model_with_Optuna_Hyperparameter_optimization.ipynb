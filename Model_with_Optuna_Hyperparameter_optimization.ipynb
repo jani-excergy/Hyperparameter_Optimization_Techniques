{
  "nbformat": 4,
  "nbformat_minor": 0,
  "metadata": {
    "colab": {
      "name": "Model with Optuna Hyperparameter optimization",
      "provenance": []
    },
    "kernelspec": {
      "name": "python3",
      "display_name": "Python 3"
    }
  },
  "cells": [
    {
      "cell_type": "code",
      "metadata": {
        "id": "2DoYOqbcKLs9",
        "colab_type": "code",
        "colab": {}
      },
      "source": [
        "!pip install -U -q PyDrive\n",
        "from pydrive.auth import GoogleAuth\n",
        "from pydrive.drive import GoogleDrive\n",
        "from google.colab import auth\n",
        "from oauth2client.client import GoogleCredentials"
      ],
      "execution_count": 1,
      "outputs": []
    },
    {
      "cell_type": "code",
      "metadata": {
        "id": "uWtHO40WK4v9",
        "colab_type": "code",
        "colab": {}
      },
      "source": [
        "auth.authenticate_user()\n",
        "gauth = GoogleAuth()\n",
        "gauth.credentials = GoogleCredentials.get_application_default()\n",
        "drive = GoogleDrive(gauth)"
      ],
      "execution_count": 2,
      "outputs": []
    },
    {
      "cell_type": "code",
      "metadata": {
        "id": "pEKf_CDSLHQF",
        "colab_type": "code",
        "colab": {}
      },
      "source": [
        "downloaded = drive.CreateFile({'id':'1Blpp94I9dOaMt7V4nB-0meR4FygacAwN'}) # replace the id with id of file you want to access\n",
        "downloaded.GetContentFile('Real_combine.csv') "
      ],
      "execution_count": 3,
      "outputs": []
    },
    {
      "cell_type": "code",
      "metadata": {
        "id": "s44DQVIPLR0H",
        "colab_type": "code",
        "colab": {}
      },
      "source": [
        "import pandas as pd\n"
      ],
      "execution_count": 5,
      "outputs": []
    },
    {
      "cell_type": "code",
      "metadata": {
        "id": "VZy3m14ULTMW",
        "colab_type": "code",
        "colab": {}
      },
      "source": [
        "df=pd.read_csv('Real_combine.csv')"
      ],
      "execution_count": 6,
      "outputs": []
    },
    {
      "cell_type": "code",
      "metadata": {
        "id": "rbkEyDjNLcxn",
        "colab_type": "code",
        "colab": {
          "base_uri": "https://localhost:8080/",
          "height": 415
        },
        "outputId": "3a2e3a92-f124-4208-ede9-66cfb479575d"
      },
      "source": [
        "df"
      ],
      "execution_count": 7,
      "outputs": [
        {
          "output_type": "execute_result",
          "data": {
            "text/html": [
              "<div>\n",
              "<style scoped>\n",
              "    .dataframe tbody tr th:only-of-type {\n",
              "        vertical-align: middle;\n",
              "    }\n",
              "\n",
              "    .dataframe tbody tr th {\n",
              "        vertical-align: top;\n",
              "    }\n",
              "\n",
              "    .dataframe thead th {\n",
              "        text-align: right;\n",
              "    }\n",
              "</style>\n",
              "<table border=\"1\" class=\"dataframe\">\n",
              "  <thead>\n",
              "    <tr style=\"text-align: right;\">\n",
              "      <th></th>\n",
              "      <th>Unnamed: 0</th>\n",
              "      <th>T</th>\n",
              "      <th>TM</th>\n",
              "      <th>Tm</th>\n",
              "      <th>SLP</th>\n",
              "      <th>H</th>\n",
              "      <th>VV</th>\n",
              "      <th>V</th>\n",
              "      <th>VM</th>\n",
              "      <th>PM 2.5</th>\n",
              "    </tr>\n",
              "  </thead>\n",
              "  <tbody>\n",
              "    <tr>\n",
              "      <th>0</th>\n",
              "      <td>1</td>\n",
              "      <td>26.7</td>\n",
              "      <td>33.0</td>\n",
              "      <td>20.0</td>\n",
              "      <td>1012.4</td>\n",
              "      <td>60.0</td>\n",
              "      <td>5.1</td>\n",
              "      <td>4.4</td>\n",
              "      <td>13.0</td>\n",
              "      <td>284.795833</td>\n",
              "    </tr>\n",
              "    <tr>\n",
              "      <th>1</th>\n",
              "      <td>3</td>\n",
              "      <td>29.1</td>\n",
              "      <td>35.0</td>\n",
              "      <td>20.5</td>\n",
              "      <td>1011.9</td>\n",
              "      <td>49.0</td>\n",
              "      <td>5.8</td>\n",
              "      <td>5.2</td>\n",
              "      <td>14.8</td>\n",
              "      <td>219.720833</td>\n",
              "    </tr>\n",
              "    <tr>\n",
              "      <th>2</th>\n",
              "      <td>5</td>\n",
              "      <td>28.4</td>\n",
              "      <td>36.0</td>\n",
              "      <td>21.0</td>\n",
              "      <td>1011.3</td>\n",
              "      <td>46.0</td>\n",
              "      <td>5.3</td>\n",
              "      <td>5.7</td>\n",
              "      <td>11.1</td>\n",
              "      <td>182.187500</td>\n",
              "    </tr>\n",
              "    <tr>\n",
              "      <th>3</th>\n",
              "      <td>7</td>\n",
              "      <td>25.9</td>\n",
              "      <td>32.0</td>\n",
              "      <td>20.0</td>\n",
              "      <td>1011.8</td>\n",
              "      <td>56.0</td>\n",
              "      <td>6.1</td>\n",
              "      <td>6.9</td>\n",
              "      <td>11.1</td>\n",
              "      <td>154.037500</td>\n",
              "    </tr>\n",
              "    <tr>\n",
              "      <th>4</th>\n",
              "      <td>9</td>\n",
              "      <td>24.8</td>\n",
              "      <td>31.1</td>\n",
              "      <td>20.6</td>\n",
              "      <td>1013.6</td>\n",
              "      <td>58.0</td>\n",
              "      <td>4.8</td>\n",
              "      <td>8.3</td>\n",
              "      <td>11.1</td>\n",
              "      <td>223.208333</td>\n",
              "    </tr>\n",
              "    <tr>\n",
              "      <th>...</th>\n",
              "      <td>...</td>\n",
              "      <td>...</td>\n",
              "      <td>...</td>\n",
              "      <td>...</td>\n",
              "      <td>...</td>\n",
              "      <td>...</td>\n",
              "      <td>...</td>\n",
              "      <td>...</td>\n",
              "      <td>...</td>\n",
              "      <td>...</td>\n",
              "    </tr>\n",
              "    <tr>\n",
              "      <th>638</th>\n",
              "      <td>1277</td>\n",
              "      <td>28.5</td>\n",
              "      <td>33.4</td>\n",
              "      <td>20.9</td>\n",
              "      <td>1012.6</td>\n",
              "      <td>59.0</td>\n",
              "      <td>5.3</td>\n",
              "      <td>6.3</td>\n",
              "      <td>14.8</td>\n",
              "      <td>185.500000</td>\n",
              "    </tr>\n",
              "    <tr>\n",
              "      <th>639</th>\n",
              "      <td>1279</td>\n",
              "      <td>24.9</td>\n",
              "      <td>33.2</td>\n",
              "      <td>14.8</td>\n",
              "      <td>1011.5</td>\n",
              "      <td>48.0</td>\n",
              "      <td>4.2</td>\n",
              "      <td>4.6</td>\n",
              "      <td>13.0</td>\n",
              "      <td>166.875000</td>\n",
              "    </tr>\n",
              "    <tr>\n",
              "      <th>640</th>\n",
              "      <td>1281</td>\n",
              "      <td>26.4</td>\n",
              "      <td>32.0</td>\n",
              "      <td>20.9</td>\n",
              "      <td>1011.2</td>\n",
              "      <td>70.0</td>\n",
              "      <td>3.9</td>\n",
              "      <td>6.7</td>\n",
              "      <td>9.4</td>\n",
              "      <td>200.333333</td>\n",
              "    </tr>\n",
              "    <tr>\n",
              "      <th>641</th>\n",
              "      <td>1283</td>\n",
              "      <td>20.8</td>\n",
              "      <td>25.0</td>\n",
              "      <td>14.5</td>\n",
              "      <td>1016.8</td>\n",
              "      <td>78.0</td>\n",
              "      <td>4.7</td>\n",
              "      <td>5.9</td>\n",
              "      <td>11.1</td>\n",
              "      <td>349.291667</td>\n",
              "    </tr>\n",
              "    <tr>\n",
              "      <th>642</th>\n",
              "      <td>1285</td>\n",
              "      <td>23.3</td>\n",
              "      <td>28.0</td>\n",
              "      <td>14.9</td>\n",
              "      <td>1014.0</td>\n",
              "      <td>71.0</td>\n",
              "      <td>4.5</td>\n",
              "      <td>3.0</td>\n",
              "      <td>9.4</td>\n",
              "      <td>310.250000</td>\n",
              "    </tr>\n",
              "  </tbody>\n",
              "</table>\n",
              "<p>643 rows × 10 columns</p>\n",
              "</div>"
            ],
            "text/plain": [
              "     Unnamed: 0     T    TM    Tm     SLP     H   VV    V    VM      PM 2.5\n",
              "0             1  26.7  33.0  20.0  1012.4  60.0  5.1  4.4  13.0  284.795833\n",
              "1             3  29.1  35.0  20.5  1011.9  49.0  5.8  5.2  14.8  219.720833\n",
              "2             5  28.4  36.0  21.0  1011.3  46.0  5.3  5.7  11.1  182.187500\n",
              "3             7  25.9  32.0  20.0  1011.8  56.0  6.1  6.9  11.1  154.037500\n",
              "4             9  24.8  31.1  20.6  1013.6  58.0  4.8  8.3  11.1  223.208333\n",
              "..          ...   ...   ...   ...     ...   ...  ...  ...   ...         ...\n",
              "638        1277  28.5  33.4  20.9  1012.6  59.0  5.3  6.3  14.8  185.500000\n",
              "639        1279  24.9  33.2  14.8  1011.5  48.0  4.2  4.6  13.0  166.875000\n",
              "640        1281  26.4  32.0  20.9  1011.2  70.0  3.9  6.7   9.4  200.333333\n",
              "641        1283  20.8  25.0  14.5  1016.8  78.0  4.7  5.9  11.1  349.291667\n",
              "642        1285  23.3  28.0  14.9  1014.0  71.0  4.5  3.0   9.4  310.250000\n",
              "\n",
              "[643 rows x 10 columns]"
            ]
          },
          "metadata": {
            "tags": []
          },
          "execution_count": 7
        }
      ]
    },
    {
      "cell_type": "code",
      "metadata": {
        "id": "vfpdaCP9LdpK",
        "colab_type": "code",
        "colab": {}
      },
      "source": [
        "df.drop(['Unnamed: 0'],axis=1,inplace=True)"
      ],
      "execution_count": 8,
      "outputs": []
    },
    {
      "cell_type": "code",
      "metadata": {
        "id": "ZnbR6ZoILjKW",
        "colab_type": "code",
        "colab": {
          "base_uri": "https://localhost:8080/",
          "height": 415
        },
        "outputId": "c12aeeee-89f5-439d-91fa-807038579182"
      },
      "source": [
        "df"
      ],
      "execution_count": 9,
      "outputs": [
        {
          "output_type": "execute_result",
          "data": {
            "text/html": [
              "<div>\n",
              "<style scoped>\n",
              "    .dataframe tbody tr th:only-of-type {\n",
              "        vertical-align: middle;\n",
              "    }\n",
              "\n",
              "    .dataframe tbody tr th {\n",
              "        vertical-align: top;\n",
              "    }\n",
              "\n",
              "    .dataframe thead th {\n",
              "        text-align: right;\n",
              "    }\n",
              "</style>\n",
              "<table border=\"1\" class=\"dataframe\">\n",
              "  <thead>\n",
              "    <tr style=\"text-align: right;\">\n",
              "      <th></th>\n",
              "      <th>T</th>\n",
              "      <th>TM</th>\n",
              "      <th>Tm</th>\n",
              "      <th>SLP</th>\n",
              "      <th>H</th>\n",
              "      <th>VV</th>\n",
              "      <th>V</th>\n",
              "      <th>VM</th>\n",
              "      <th>PM 2.5</th>\n",
              "    </tr>\n",
              "  </thead>\n",
              "  <tbody>\n",
              "    <tr>\n",
              "      <th>0</th>\n",
              "      <td>26.7</td>\n",
              "      <td>33.0</td>\n",
              "      <td>20.0</td>\n",
              "      <td>1012.4</td>\n",
              "      <td>60.0</td>\n",
              "      <td>5.1</td>\n",
              "      <td>4.4</td>\n",
              "      <td>13.0</td>\n",
              "      <td>284.795833</td>\n",
              "    </tr>\n",
              "    <tr>\n",
              "      <th>1</th>\n",
              "      <td>29.1</td>\n",
              "      <td>35.0</td>\n",
              "      <td>20.5</td>\n",
              "      <td>1011.9</td>\n",
              "      <td>49.0</td>\n",
              "      <td>5.8</td>\n",
              "      <td>5.2</td>\n",
              "      <td>14.8</td>\n",
              "      <td>219.720833</td>\n",
              "    </tr>\n",
              "    <tr>\n",
              "      <th>2</th>\n",
              "      <td>28.4</td>\n",
              "      <td>36.0</td>\n",
              "      <td>21.0</td>\n",
              "      <td>1011.3</td>\n",
              "      <td>46.0</td>\n",
              "      <td>5.3</td>\n",
              "      <td>5.7</td>\n",
              "      <td>11.1</td>\n",
              "      <td>182.187500</td>\n",
              "    </tr>\n",
              "    <tr>\n",
              "      <th>3</th>\n",
              "      <td>25.9</td>\n",
              "      <td>32.0</td>\n",
              "      <td>20.0</td>\n",
              "      <td>1011.8</td>\n",
              "      <td>56.0</td>\n",
              "      <td>6.1</td>\n",
              "      <td>6.9</td>\n",
              "      <td>11.1</td>\n",
              "      <td>154.037500</td>\n",
              "    </tr>\n",
              "    <tr>\n",
              "      <th>4</th>\n",
              "      <td>24.8</td>\n",
              "      <td>31.1</td>\n",
              "      <td>20.6</td>\n",
              "      <td>1013.6</td>\n",
              "      <td>58.0</td>\n",
              "      <td>4.8</td>\n",
              "      <td>8.3</td>\n",
              "      <td>11.1</td>\n",
              "      <td>223.208333</td>\n",
              "    </tr>\n",
              "    <tr>\n",
              "      <th>...</th>\n",
              "      <td>...</td>\n",
              "      <td>...</td>\n",
              "      <td>...</td>\n",
              "      <td>...</td>\n",
              "      <td>...</td>\n",
              "      <td>...</td>\n",
              "      <td>...</td>\n",
              "      <td>...</td>\n",
              "      <td>...</td>\n",
              "    </tr>\n",
              "    <tr>\n",
              "      <th>638</th>\n",
              "      <td>28.5</td>\n",
              "      <td>33.4</td>\n",
              "      <td>20.9</td>\n",
              "      <td>1012.6</td>\n",
              "      <td>59.0</td>\n",
              "      <td>5.3</td>\n",
              "      <td>6.3</td>\n",
              "      <td>14.8</td>\n",
              "      <td>185.500000</td>\n",
              "    </tr>\n",
              "    <tr>\n",
              "      <th>639</th>\n",
              "      <td>24.9</td>\n",
              "      <td>33.2</td>\n",
              "      <td>14.8</td>\n",
              "      <td>1011.5</td>\n",
              "      <td>48.0</td>\n",
              "      <td>4.2</td>\n",
              "      <td>4.6</td>\n",
              "      <td>13.0</td>\n",
              "      <td>166.875000</td>\n",
              "    </tr>\n",
              "    <tr>\n",
              "      <th>640</th>\n",
              "      <td>26.4</td>\n",
              "      <td>32.0</td>\n",
              "      <td>20.9</td>\n",
              "      <td>1011.2</td>\n",
              "      <td>70.0</td>\n",
              "      <td>3.9</td>\n",
              "      <td>6.7</td>\n",
              "      <td>9.4</td>\n",
              "      <td>200.333333</td>\n",
              "    </tr>\n",
              "    <tr>\n",
              "      <th>641</th>\n",
              "      <td>20.8</td>\n",
              "      <td>25.0</td>\n",
              "      <td>14.5</td>\n",
              "      <td>1016.8</td>\n",
              "      <td>78.0</td>\n",
              "      <td>4.7</td>\n",
              "      <td>5.9</td>\n",
              "      <td>11.1</td>\n",
              "      <td>349.291667</td>\n",
              "    </tr>\n",
              "    <tr>\n",
              "      <th>642</th>\n",
              "      <td>23.3</td>\n",
              "      <td>28.0</td>\n",
              "      <td>14.9</td>\n",
              "      <td>1014.0</td>\n",
              "      <td>71.0</td>\n",
              "      <td>4.5</td>\n",
              "      <td>3.0</td>\n",
              "      <td>9.4</td>\n",
              "      <td>310.250000</td>\n",
              "    </tr>\n",
              "  </tbody>\n",
              "</table>\n",
              "<p>643 rows × 9 columns</p>\n",
              "</div>"
            ],
            "text/plain": [
              "        T    TM    Tm     SLP     H   VV    V    VM      PM 2.5\n",
              "0    26.7  33.0  20.0  1012.4  60.0  5.1  4.4  13.0  284.795833\n",
              "1    29.1  35.0  20.5  1011.9  49.0  5.8  5.2  14.8  219.720833\n",
              "2    28.4  36.0  21.0  1011.3  46.0  5.3  5.7  11.1  182.187500\n",
              "3    25.9  32.0  20.0  1011.8  56.0  6.1  6.9  11.1  154.037500\n",
              "4    24.8  31.1  20.6  1013.6  58.0  4.8  8.3  11.1  223.208333\n",
              "..    ...   ...   ...     ...   ...  ...  ...   ...         ...\n",
              "638  28.5  33.4  20.9  1012.6  59.0  5.3  6.3  14.8  185.500000\n",
              "639  24.9  33.2  14.8  1011.5  48.0  4.2  4.6  13.0  166.875000\n",
              "640  26.4  32.0  20.9  1011.2  70.0  3.9  6.7   9.4  200.333333\n",
              "641  20.8  25.0  14.5  1016.8  78.0  4.7  5.9  11.1  349.291667\n",
              "642  23.3  28.0  14.9  1014.0  71.0  4.5  3.0   9.4  310.250000\n",
              "\n",
              "[643 rows x 9 columns]"
            ]
          },
          "metadata": {
            "tags": []
          },
          "execution_count": 9
        }
      ]
    },
    {
      "cell_type": "code",
      "metadata": {
        "id": "E-20Y8ICLkbm",
        "colab_type": "code",
        "colab": {
          "base_uri": "https://localhost:8080/",
          "height": 1000
        },
        "outputId": "020eb2d1-e4d6-4c64-c79e-c5f27e07e694"
      },
      "source": [
        "!pip install optuna"
      ],
      "execution_count": 10,
      "outputs": [
        {
          "output_type": "stream",
          "text": [
            "Collecting optuna\n",
            "\u001b[?25l  Downloading https://files.pythonhosted.org/packages/9f/b1/a5f0574fa0d769bf0a5629722c84bb0af015967191a37401fe8508c5fb6a/optuna-2.1.0.tar.gz (232kB)\n",
            "\r\u001b[K     |█▍                              | 10kB 8.4MB/s eta 0:00:01\r\u001b[K     |██▉                             | 20kB 1.4MB/s eta 0:00:01\r\u001b[K     |████▎                           | 30kB 1.9MB/s eta 0:00:01\r\u001b[K     |█████▋                          | 40kB 1.5MB/s eta 0:00:01\r\u001b[K     |███████                         | 51kB 1.8MB/s eta 0:00:01\r\u001b[K     |████████▌                       | 61kB 2.1MB/s eta 0:00:01\r\u001b[K     |█████████▉                      | 71kB 2.2MB/s eta 0:00:01\r\u001b[K     |███████████▎                    | 81kB 2.5MB/s eta 0:00:01\r\u001b[K     |████████████▊                   | 92kB 2.7MB/s eta 0:00:01\r\u001b[K     |██████████████                  | 102kB 2.6MB/s eta 0:00:01\r\u001b[K     |███████████████▌                | 112kB 2.6MB/s eta 0:00:01\r\u001b[K     |█████████████████               | 122kB 2.6MB/s eta 0:00:01\r\u001b[K     |██████████████████▎             | 133kB 2.6MB/s eta 0:00:01\r\u001b[K     |███████████████████▊            | 143kB 2.6MB/s eta 0:00:01\r\u001b[K     |█████████████████████▏          | 153kB 2.6MB/s eta 0:00:01\r\u001b[K     |██████████████████████▌         | 163kB 2.6MB/s eta 0:00:01\r\u001b[K     |████████████████████████        | 174kB 2.6MB/s eta 0:00:01\r\u001b[K     |█████████████████████████▍      | 184kB 2.6MB/s eta 0:00:01\r\u001b[K     |██████████████████████████▊     | 194kB 2.6MB/s eta 0:00:01\r\u001b[K     |████████████████████████████▏   | 204kB 2.6MB/s eta 0:00:01\r\u001b[K     |█████████████████████████████▋  | 215kB 2.6MB/s eta 0:00:01\r\u001b[K     |███████████████████████████████ | 225kB 2.6MB/s eta 0:00:01\r\u001b[K     |████████████████████████████████| 235kB 2.6MB/s \n",
            "\u001b[?25h  Installing build dependencies ... \u001b[?25l\u001b[?25hdone\n",
            "  Getting requirements to build wheel ... \u001b[?25l\u001b[?25hdone\n",
            "    Preparing wheel metadata ... \u001b[?25l\u001b[?25hdone\n",
            "Requirement already satisfied: scipy!=1.4.0 in /usr/local/lib/python3.6/dist-packages (from optuna) (1.4.1)\n",
            "Collecting colorlog\n",
            "  Downloading https://files.pythonhosted.org/packages/2a/81/12d77537c82c5d46aa2721dfee25a0e873ef5920ebd0827152f411effb57/colorlog-4.2.1-py2.py3-none-any.whl\n",
            "Collecting cmaes>=0.6.0\n",
            "  Downloading https://files.pythonhosted.org/packages/ee/03/5d15a78ca92ac2bf09f466c54c48bb92979dfe19add2dfed415133ba9792/cmaes-0.6.1-py3-none-any.whl\n",
            "Requirement already satisfied: joblib in /usr/local/lib/python3.6/dist-packages (from optuna) (0.16.0)\n",
            "Requirement already satisfied: tqdm in /usr/local/lib/python3.6/dist-packages (from optuna) (4.41.1)\n",
            "Collecting alembic\n",
            "\u001b[?25l  Downloading https://files.pythonhosted.org/packages/12/aa/c261dfd7f4ba6ce4701846a2689a46e2a172e012171de4378fc2926e3bf0/alembic-1.4.3-py2.py3-none-any.whl (159kB)\n",
            "\u001b[K     |████████████████████████████████| 163kB 8.6MB/s \n",
            "\u001b[?25hRequirement already satisfied: sqlalchemy>=1.1.0 in /usr/local/lib/python3.6/dist-packages (from optuna) (1.3.19)\n",
            "Requirement already satisfied: numpy in /usr/local/lib/python3.6/dist-packages (from optuna) (1.18.5)\n",
            "Collecting cliff\n",
            "\u001b[?25l  Downloading https://files.pythonhosted.org/packages/71/06/03b1f92d46546a18eabf33ff7f37ef422c18c93d5a926bf590fee32ebe75/cliff-3.4.0-py3-none-any.whl (76kB)\n",
            "\u001b[K     |████████████████████████████████| 81kB 4.9MB/s \n",
            "\u001b[?25hRequirement already satisfied: packaging>=20.0 in /usr/local/lib/python3.6/dist-packages (from optuna) (20.4)\n",
            "Requirement already satisfied: python-dateutil in /usr/local/lib/python3.6/dist-packages (from alembic->optuna) (2.8.1)\n",
            "Collecting python-editor>=0.3\n",
            "  Downloading https://files.pythonhosted.org/packages/c6/d3/201fc3abe391bbae6606e6f1d598c15d367033332bd54352b12f35513717/python_editor-1.0.4-py3-none-any.whl\n",
            "Collecting Mako\n",
            "\u001b[?25l  Downloading https://files.pythonhosted.org/packages/a6/37/0e706200d22172eb8fa17d68a7ae22dec7631a0a92266634fb518a88a5b2/Mako-1.1.3-py2.py3-none-any.whl (75kB)\n",
            "\u001b[K     |████████████████████████████████| 81kB 5.6MB/s \n",
            "\u001b[?25hRequirement already satisfied: six>=1.10.0 in /usr/local/lib/python3.6/dist-packages (from cliff->optuna) (1.15.0)\n",
            "Requirement already satisfied: PyYAML>=3.12 in /usr/local/lib/python3.6/dist-packages (from cliff->optuna) (3.13)\n",
            "Collecting stevedore>=2.0.1\n",
            "\u001b[?25l  Downloading https://files.pythonhosted.org/packages/b8/a1/004f04ba411a8002b02aadb089fd6868116c12ddc9f6d576175e89d07587/stevedore-3.2.2-py3-none-any.whl (42kB)\n",
            "\u001b[K     |████████████████████████████████| 51kB 5.4MB/s \n",
            "\u001b[?25hRequirement already satisfied: PrettyTable<0.8,>=0.7.2 in /usr/local/lib/python3.6/dist-packages (from cliff->optuna) (0.7.2)\n",
            "Requirement already satisfied: pyparsing>=2.1.0 in /usr/local/lib/python3.6/dist-packages (from cliff->optuna) (2.4.7)\n",
            "Collecting pbr!=2.1.0,>=2.0.0\n",
            "\u001b[?25l  Downloading https://files.pythonhosted.org/packages/c1/a3/d439f338aa90edd5ad9096cd56564b44882182150e92148eb14ceb7488ba/pbr-5.5.0-py2.py3-none-any.whl (106kB)\n",
            "\u001b[K     |████████████████████████████████| 112kB 11.3MB/s \n",
            "\u001b[?25hCollecting cmd2!=0.8.3,>=0.8.0\n",
            "\u001b[?25l  Downloading https://files.pythonhosted.org/packages/b2/28/0d604c8ccbf2d677d3d2c8025724cfa60f10496c0e417e0ab5a22d23c869/cmd2-1.3.10-py3-none-any.whl (132kB)\n",
            "\u001b[K     |████████████████████████████████| 133kB 8.5MB/s \n",
            "\u001b[?25hRequirement already satisfied: MarkupSafe>=0.9.2 in /usr/local/lib/python3.6/dist-packages (from Mako->alembic->optuna) (1.1.1)\n",
            "Requirement already satisfied: importlib-metadata>=1.7.0; python_version < \"3.8\" in /usr/local/lib/python3.6/dist-packages (from stevedore>=2.0.1->cliff->optuna) (1.7.0)\n",
            "Requirement already satisfied: attrs>=16.3.0 in /usr/local/lib/python3.6/dist-packages (from cmd2!=0.8.3,>=0.8.0->cliff->optuna) (20.2.0)\n",
            "Collecting colorama>=0.3.7\n",
            "  Downloading https://files.pythonhosted.org/packages/c9/dc/45cdef1b4d119eb96316b3117e6d5708a08029992b2fee2c143c7a0a5cc5/colorama-0.4.3-py2.py3-none-any.whl\n",
            "Collecting pyperclip>=1.6\n",
            "  Downloading https://files.pythonhosted.org/packages/f6/5b/55866e1cde0f86f5eec59dab5de8a66628cb0d53da74b8dbc15ad8dabda3/pyperclip-1.8.0.tar.gz\n",
            "Requirement already satisfied: wcwidth>=0.1.7 in /usr/local/lib/python3.6/dist-packages (from cmd2!=0.8.3,>=0.8.0->cliff->optuna) (0.2.5)\n",
            "Requirement already satisfied: setuptools>=34.4 in /usr/local/lib/python3.6/dist-packages (from cmd2!=0.8.3,>=0.8.0->cliff->optuna) (50.3.0)\n",
            "Requirement already satisfied: zipp>=0.5 in /usr/local/lib/python3.6/dist-packages (from importlib-metadata>=1.7.0; python_version < \"3.8\"->stevedore>=2.0.1->cliff->optuna) (3.1.0)\n",
            "Building wheels for collected packages: optuna\n",
            "  Building wheel for optuna (PEP 517) ... \u001b[?25l\u001b[?25hdone\n",
            "  Created wheel for optuna: filename=optuna-2.1.0-cp36-none-any.whl size=321090 sha256=9c21bce5623d99493864c35d33e98e04a8dbf74d4ce1e8443293eaf01494277b\n",
            "  Stored in directory: /root/.cache/pip/wheels/9f/25/24/a165483933b5eefbf4f93c85f3188dc696cbb38620b73ad713\n",
            "Successfully built optuna\n",
            "Building wheels for collected packages: pyperclip\n",
            "  Building wheel for pyperclip (setup.py) ... \u001b[?25l\u001b[?25hdone\n",
            "  Created wheel for pyperclip: filename=pyperclip-1.8.0-cp36-none-any.whl size=8693 sha256=88f85ade94803207951fc1788a99d3aad96f438bb753d0edef67f85ca0090f50\n",
            "  Stored in directory: /root/.cache/pip/wheels/b2/ac/0a/b784f0afe26eaf52e88a7e15c7369090deea0354fa1c6fc689\n",
            "Successfully built pyperclip\n",
            "Installing collected packages: colorlog, cmaes, python-editor, Mako, alembic, pbr, stevedore, colorama, pyperclip, cmd2, cliff, optuna\n",
            "Successfully installed Mako-1.1.3 alembic-1.4.3 cliff-3.4.0 cmaes-0.6.1 cmd2-1.3.10 colorama-0.4.3 colorlog-4.2.1 optuna-2.1.0 pbr-5.5.0 pyperclip-1.8.0 python-editor-1.0.4 stevedore-3.2.2\n"
          ],
          "name": "stdout"
        }
      ]
    },
    {
      "cell_type": "code",
      "metadata": {
        "id": "z40KfkteL_By",
        "colab_type": "code",
        "colab": {}
      },
      "source": [
        "import sklearn\n",
        "from sklearn.ensemble import RandomForestRegressor\n",
        "from sklearn.model_selection import cross_val_score\n",
        "from sklearn.model_selection import train_test_split"
      ],
      "execution_count": 18,
      "outputs": []
    },
    {
      "cell_type": "code",
      "metadata": {
        "id": "BfInRf7-MSIq",
        "colab_type": "code",
        "colab": {}
      },
      "source": [
        "import optuna\n"
      ],
      "execution_count": 19,
      "outputs": []
    },
    {
      "cell_type": "code",
      "metadata": {
        "id": "6WxglXUsMUEc",
        "colab_type": "code",
        "colab": {
          "base_uri": "https://localhost:8080/",
          "height": 1000
        },
        "outputId": "9e2d7fa8-0380-49b3-ab39-fb68d024a4b4"
      },
      "source": [
        "def objective(trial):\n",
        "    df=pd.read_csv('Real_combine.csv')\n",
        "    df.drop(['Unnamed: 0'],axis=1,inplace=True)\n",
        "    X=df.iloc[:,:-1]\n",
        "    y=df.iloc[:,-1]\n",
        "\n",
        "    X_train,X_test,y_train,y_test=train_test_split(X,y,test_size=0.20,random_state=0)\n",
        "\n",
        "\n",
        "    criterion = trial.suggest_categorical(\"criterion\", [\"mse\", \"mae\"])\n",
        "    max_depth = trial.suggest_int(\"max_depth\", 2, 32, log=True)\n",
        "    n_estimators = trial.suggest_int(\"n_estimators\", 100,500)\n",
        "\n",
        "    rf = sklearn.ensemble.RandomForestRegressor(criterion =criterion,\n",
        "            max_depth=max_depth, \n",
        "            n_estimators=n_estimators\n",
        "        )\n",
        "\n",
        "    score = cross_val_score(rf, X, y, n_jobs=-1, cv=3)\n",
        "    accuracy = score.mean()\n",
        "    return accuracy\n",
        "\n",
        "\n",
        "study = optuna.create_study(direction=\"maximize\")\n",
        "study.optimize(objective, n_trials=150)"
      ],
      "execution_count": 43,
      "outputs": [
        {
          "output_type": "stream",
          "text": [
            "[I 2020-09-19 10:30:21,903] A new study created in memory with name: no-name-9675aa95-d0ac-4f9e-8361-d496a6900f8e\n",
            "[I 2020-09-19 10:30:25,382] Trial 0 finished with value: 0.34834617759346864 and parameters: {'criterion': 'mse', 'max_depth': 14, 'n_estimators': 311}. Best is trial 0 with value: 0.34834617759346864.\n",
            "[I 2020-09-19 10:30:29,702] Trial 1 finished with value: 0.3441085807448987 and parameters: {'criterion': 'mae', 'max_depth': 18, 'n_estimators': 147}. Best is trial 0 with value: 0.34834617759346864.\n",
            "[I 2020-09-19 10:30:34,154] Trial 2 finished with value: 0.38595975276972955 and parameters: {'criterion': 'mae', 'max_depth': 3, 'n_estimators': 328}. Best is trial 2 with value: 0.38595975276972955.\n",
            "[I 2020-09-19 10:30:35,273] Trial 3 finished with value: 0.3500675119710583 and parameters: {'criterion': 'mse', 'max_depth': 29, 'n_estimators': 144}. Best is trial 2 with value: 0.38595975276972955.\n",
            "[I 2020-09-19 10:30:48,246] Trial 4 finished with value: 0.3575352054206597 and parameters: {'criterion': 'mae', 'max_depth': 16, 'n_estimators': 453}. Best is trial 2 with value: 0.38595975276972955.\n",
            "[I 2020-09-19 10:30:50,256] Trial 5 finished with value: 0.3531396111897647 and parameters: {'criterion': 'mse', 'max_depth': 10, 'n_estimators': 304}. Best is trial 2 with value: 0.38595975276972955.\n",
            "[I 2020-09-19 10:30:54,062] Trial 6 finished with value: 0.35373898709440593 and parameters: {'criterion': 'mae', 'max_depth': 25, 'n_estimators': 129}. Best is trial 2 with value: 0.38595975276972955.\n",
            "[I 2020-09-19 10:30:56,279] Trial 7 finished with value: 0.3745562157829161 and parameters: {'criterion': 'mae', 'max_depth': 2, 'n_estimators': 201}. Best is trial 2 with value: 0.38595975276972955.\n",
            "[I 2020-09-19 10:30:57,408] Trial 8 finished with value: 0.34530912289879107 and parameters: {'criterion': 'mse', 'max_depth': 12, 'n_estimators': 159}. Best is trial 2 with value: 0.38595975276972955.\n",
            "[I 2020-09-19 10:30:58,280] Trial 9 finished with value: 0.3661279303883613 and parameters: {'criterion': 'mse', 'max_depth': 8, 'n_estimators': 141}. Best is trial 2 with value: 0.38595975276972955.\n",
            "[I 2020-09-19 10:31:03,899] Trial 10 finished with value: 0.38396006179214054 and parameters: {'criterion': 'mae', 'max_depth': 3, 'n_estimators': 420}. Best is trial 2 with value: 0.38595975276972955.\n",
            "[I 2020-09-19 10:31:09,551] Trial 11 finished with value: 0.3852386589810126 and parameters: {'criterion': 'mae', 'max_depth': 3, 'n_estimators': 418}. Best is trial 2 with value: 0.38595975276972955.\n",
            "[I 2020-09-19 10:31:15,572] Trial 12 finished with value: 0.3812903593233357 and parameters: {'criterion': 'mae', 'max_depth': 4, 'n_estimators': 380}. Best is trial 2 with value: 0.38595975276972955.\n",
            "[I 2020-09-19 10:31:21,215] Trial 13 finished with value: 0.38698290749431136 and parameters: {'criterion': 'mae', 'max_depth': 4, 'n_estimators': 357}. Best is trial 13 with value: 0.38698290749431136.\n",
            "[I 2020-09-19 10:31:25,872] Trial 14 finished with value: 0.3815985914764128 and parameters: {'criterion': 'mae', 'max_depth': 5, 'n_estimators': 260}. Best is trial 13 with value: 0.38698290749431136.\n",
            "[I 2020-09-19 10:31:29,828] Trial 15 finished with value: 0.37339729099593283 and parameters: {'criterion': 'mae', 'max_depth': 2, 'n_estimators': 361}. Best is trial 13 with value: 0.38698290749431136.\n",
            "[I 2020-09-19 10:31:39,629] Trial 16 finished with value: 0.3686213406335282 and parameters: {'criterion': 'mae', 'max_depth': 6, 'n_estimators': 494}. Best is trial 13 with value: 0.38698290749431136.\n",
            "[I 2020-09-19 10:31:42,474] Trial 17 finished with value: 0.3749981656300474 and parameters: {'criterion': 'mae', 'max_depth': 2, 'n_estimators': 260}. Best is trial 13 with value: 0.38698290749431136.\n",
            "[I 2020-09-19 10:31:47,117] Trial 18 finished with value: 0.38600153295488204 and parameters: {'criterion': 'mae', 'max_depth': 3, 'n_estimators': 345}. Best is trial 13 with value: 0.38698290749431136.\n",
            "[I 2020-09-19 10:31:51,138] Trial 19 finished with value: 0.3788680538379687 and parameters: {'criterion': 'mae', 'max_depth': 4, 'n_estimators': 254}. Best is trial 13 with value: 0.38698290749431136.\n",
            "[I 2020-09-19 10:31:55,002] Trial 20 finished with value: 0.37309356272435173 and parameters: {'criterion': 'mae', 'max_depth': 2, 'n_estimators': 355}. Best is trial 13 with value: 0.38698290749431136.\n",
            "[I 2020-09-19 10:31:59,412] Trial 21 finished with value: 0.38674178534618636 and parameters: {'criterion': 'mae', 'max_depth': 3, 'n_estimators': 329}. Best is trial 13 with value: 0.38698290749431136.\n",
            "[I 2020-09-19 10:32:05,781] Trial 22 finished with value: 0.38421520251743563 and parameters: {'criterion': 'mae', 'max_depth': 4, 'n_estimators': 403}. Best is trial 13 with value: 0.38698290749431136.\n",
            "[I 2020-09-19 10:32:09,497] Trial 23 finished with value: 0.3779858641750716 and parameters: {'criterion': 'mae', 'max_depth': 2, 'n_estimators': 343}. Best is trial 13 with value: 0.38698290749431136.\n",
            "[I 2020-09-19 10:32:13,392] Trial 24 finished with value: 0.3845847155902082 and parameters: {'criterion': 'mae', 'max_depth': 3, 'n_estimators': 286}. Best is trial 13 with value: 0.38698290749431136.\n",
            "[I 2020-09-19 10:32:18,326] Trial 25 finished with value: 0.37717624212610906 and parameters: {'criterion': 'mae', 'max_depth': 2, 'n_estimators': 455}. Best is trial 13 with value: 0.38698290749431136.\n",
            "[I 2020-09-19 10:32:24,980] Trial 26 finished with value: 0.3795386219636332 and parameters: {'criterion': 'mae', 'max_depth': 5, 'n_estimators': 371}. Best is trial 13 with value: 0.38698290749431136.\n",
            "[I 2020-09-19 10:32:27,273] Trial 27 finished with value: 0.37978406420607874 and parameters: {'criterion': 'mae', 'max_depth': 2, 'n_estimators': 210}. Best is trial 13 with value: 0.38698290749431136.\n",
            "[I 2020-09-19 10:32:32,636] Trial 28 finished with value: 0.38439821481511166 and parameters: {'criterion': 'mae', 'max_depth': 3, 'n_estimators': 390}. Best is trial 13 with value: 0.38698290749431136.\n",
            "[I 2020-09-19 10:32:34,052] Trial 29 finished with value: 0.39546731804528235 and parameters: {'criterion': 'mse', 'max_depth': 3, 'n_estimators': 320}. Best is trial 29 with value: 0.39546731804528235.\n",
            "[I 2020-09-19 10:32:35,914] Trial 30 finished with value: 0.36775921459084177 and parameters: {'criterion': 'mse', 'max_depth': 7, 'n_estimators': 309}. Best is trial 29 with value: 0.39546731804528235.\n",
            "[I 2020-09-19 10:32:37,273] Trial 31 finished with value: 0.3894648781087375 and parameters: {'criterion': 'mse', 'max_depth': 2, 'n_estimators': 334}. Best is trial 29 with value: 0.39546731804528235.\n",
            "[I 2020-09-19 10:32:38,605] Trial 32 finished with value: 0.387484888992863 and parameters: {'criterion': 'mse', 'max_depth': 2, 'n_estimators': 327}. Best is trial 29 with value: 0.39546731804528235.\n",
            "[I 2020-09-19 10:32:39,725] Trial 33 finished with value: 0.38916340935958477 and parameters: {'criterion': 'mse', 'max_depth': 2, 'n_estimators': 282}. Best is trial 29 with value: 0.39546731804528235.\n",
            "[I 2020-09-19 10:32:40,857] Trial 34 finished with value: 0.38855820139637176 and parameters: {'criterion': 'mse', 'max_depth': 2, 'n_estimators': 283}. Best is trial 29 with value: 0.39546731804528235.\n",
            "[I 2020-09-19 10:32:41,993] Trial 35 finished with value: 0.3897585627296752 and parameters: {'criterion': 'mse', 'max_depth': 2, 'n_estimators': 285}. Best is trial 29 with value: 0.39546731804528235.\n",
            "[I 2020-09-19 10:32:42,929] Trial 36 finished with value: 0.3908417046618669 and parameters: {'criterion': 'mse', 'max_depth': 2, 'n_estimators': 231}. Best is trial 29 with value: 0.39546731804528235.\n",
            "[I 2020-09-19 10:32:43,839] Trial 37 finished with value: 0.38906647820717627 and parameters: {'criterion': 'mse', 'max_depth': 2, 'n_estimators': 227}. Best is trial 29 with value: 0.39546731804528235.\n",
            "[I 2020-09-19 10:32:44,552] Trial 38 finished with value: 0.3934430377133887 and parameters: {'criterion': 'mse', 'max_depth': 2, 'n_estimators': 176}. Best is trial 29 with value: 0.39546731804528235.\n",
            "[I 2020-09-19 10:32:45,251] Trial 39 finished with value: 0.38911462196914126 and parameters: {'criterion': 'mse', 'max_depth': 2, 'n_estimators': 173}. Best is trial 29 with value: 0.39546731804528235.\n",
            "[I 2020-09-19 10:32:45,706] Trial 40 finished with value: 0.3860230871241533 and parameters: {'criterion': 'mse', 'max_depth': 2, 'n_estimators': 110}. Best is trial 29 with value: 0.39546731804528235.\n",
            "[I 2020-09-19 10:32:46,652] Trial 41 finished with value: 0.39084683522732117 and parameters: {'criterion': 'mse', 'max_depth': 2, 'n_estimators': 235}. Best is trial 29 with value: 0.39546731804528235.\n",
            "[I 2020-09-19 10:32:47,589] Trial 42 finished with value: 0.3902883277436962 and parameters: {'criterion': 'mse', 'max_depth': 2, 'n_estimators': 236}. Best is trial 29 with value: 0.39546731804528235.\n",
            "[I 2020-09-19 10:32:48,327] Trial 43 finished with value: 0.3862785250061413 and parameters: {'criterion': 'mse', 'max_depth': 2, 'n_estimators': 184}. Best is trial 29 with value: 0.39546731804528235.\n",
            "[I 2020-09-19 10:32:49,246] Trial 44 finished with value: 0.38969003646527495 and parameters: {'criterion': 'mse', 'max_depth': 2, 'n_estimators': 230}. Best is trial 29 with value: 0.39546731804528235.\n",
            "[I 2020-09-19 10:32:50,186] Trial 45 finished with value: 0.3910633749418655 and parameters: {'criterion': 'mse', 'max_depth': 2, 'n_estimators': 235}. Best is trial 29 with value: 0.39546731804528235.\n",
            "[I 2020-09-19 10:32:50,988] Trial 46 finished with value: 0.39340082782399843 and parameters: {'criterion': 'mse', 'max_depth': 2, 'n_estimators': 197}. Best is trial 29 with value: 0.39546731804528235.\n",
            "[I 2020-09-19 10:32:51,785] Trial 47 finished with value: 0.3876514999414331 and parameters: {'criterion': 'mse', 'max_depth': 2, 'n_estimators': 194}. Best is trial 29 with value: 0.39546731804528235.\n",
            "[I 2020-09-19 10:32:52,430] Trial 48 finished with value: 0.3919019576752086 and parameters: {'criterion': 'mse', 'max_depth': 2, 'n_estimators': 156}. Best is trial 29 with value: 0.39546731804528235.\n",
            "[I 2020-09-19 10:32:52,910] Trial 49 finished with value: 0.390917959710458 and parameters: {'criterion': 'mse', 'max_depth': 2, 'n_estimators': 114}. Best is trial 29 with value: 0.39546731804528235.\n",
            "[I 2020-09-19 10:32:53,607] Trial 50 finished with value: 0.3883769285609406 and parameters: {'criterion': 'mse', 'max_depth': 2, 'n_estimators': 163}. Best is trial 29 with value: 0.39546731804528235.\n",
            "[I 2020-09-19 10:32:54,047] Trial 51 finished with value: 0.3872035293309953 and parameters: {'criterion': 'mse', 'max_depth': 2, 'n_estimators': 101}. Best is trial 29 with value: 0.39546731804528235.\n",
            "[I 2020-09-19 10:32:54,579] Trial 52 finished with value: 0.39165476123161397 and parameters: {'criterion': 'mse', 'max_depth': 2, 'n_estimators': 123}. Best is trial 29 with value: 0.39546731804528235.\n",
            "[I 2020-09-19 10:32:55,184] Trial 53 finished with value: 0.38905398871289965 and parameters: {'criterion': 'mse', 'max_depth': 2, 'n_estimators': 142}. Best is trial 29 with value: 0.39546731804528235.\n",
            "[I 2020-09-19 10:32:55,737] Trial 54 finished with value: 0.39387858188674746 and parameters: {'criterion': 'mse', 'max_depth': 2, 'n_estimators': 131}. Best is trial 29 with value: 0.39546731804528235.\n",
            "[I 2020-09-19 10:32:56,297] Trial 55 finished with value: 0.3861492210846233 and parameters: {'criterion': 'mse', 'max_depth': 2, 'n_estimators': 132}. Best is trial 29 with value: 0.39546731804528235.\n",
            "[I 2020-09-19 10:32:56,924] Trial 56 finished with value: 0.3884672811563295 and parameters: {'criterion': 'mse', 'max_depth': 2, 'n_estimators': 152}. Best is trial 29 with value: 0.39546731804528235.\n",
            "[I 2020-09-19 10:32:57,469] Trial 57 finished with value: 0.38916214513671926 and parameters: {'criterion': 'mse', 'max_depth': 2, 'n_estimators': 128}. Best is trial 29 with value: 0.39546731804528235.\n",
            "[I 2020-09-19 10:32:58,174] Trial 58 finished with value: 0.38469867891803816 and parameters: {'criterion': 'mse', 'max_depth': 2, 'n_estimators': 174}. Best is trial 29 with value: 0.39546731804528235.\n",
            "[I 2020-09-19 10:32:59,013] Trial 59 finished with value: 0.3905162618187281 and parameters: {'criterion': 'mse', 'max_depth': 2, 'n_estimators': 208}. Best is trial 29 with value: 0.39546731804528235.\n",
            "[I 2020-09-19 10:32:59,547] Trial 60 finished with value: 0.38588908414764383 and parameters: {'criterion': 'mse', 'max_depth': 2, 'n_estimators': 125}. Best is trial 29 with value: 0.39546731804528235.\n",
            "[I 2020-09-19 10:33:00,226] Trial 61 finished with value: 0.3854654819636125 and parameters: {'criterion': 'mse', 'max_depth': 2, 'n_estimators': 168}. Best is trial 29 with value: 0.39546731804528235.\n",
            "[I 2020-09-19 10:33:01,027] Trial 62 finished with value: 0.390716331349844 and parameters: {'criterion': 'mse', 'max_depth': 2, 'n_estimators': 196}. Best is trial 29 with value: 0.39546731804528235.\n",
            "[I 2020-09-19 10:33:01,661] Trial 63 finished with value: 0.38843924770682875 and parameters: {'criterion': 'mse', 'max_depth': 2, 'n_estimators': 150}. Best is trial 29 with value: 0.39546731804528235.\n",
            "[I 2020-09-19 10:33:02,421] Trial 64 finished with value: 0.38875027125596723 and parameters: {'criterion': 'mse', 'max_depth': 2, 'n_estimators': 187}. Best is trial 29 with value: 0.39546731804528235.\n",
            "[I 2020-09-19 10:33:03,284] Trial 65 finished with value: 0.39015283758198693 and parameters: {'criterion': 'mse', 'max_depth': 2, 'n_estimators': 215}. Best is trial 29 with value: 0.39546731804528235.\n",
            "[I 2020-09-19 10:33:03,930] Trial 66 finished with value: 0.39008929962051636 and parameters: {'criterion': 'mse', 'max_depth': 2, 'n_estimators': 157}. Best is trial 29 with value: 0.39546731804528235.\n",
            "[I 2020-09-19 10:33:04,950] Trial 67 finished with value: 0.3888412578157448 and parameters: {'criterion': 'mse', 'max_depth': 2, 'n_estimators': 250}. Best is trial 29 with value: 0.39546731804528235.\n",
            "[I 2020-09-19 10:33:05,435] Trial 68 finished with value: 0.39260328463994965 and parameters: {'criterion': 'mse', 'max_depth': 2, 'n_estimators': 116}. Best is trial 29 with value: 0.39546731804528235.\n",
            "[I 2020-09-19 10:33:05,912] Trial 69 finished with value: 0.38876922046175594 and parameters: {'criterion': 'mse', 'max_depth': 2, 'n_estimators': 112}. Best is trial 29 with value: 0.39546731804528235.\n",
            "[I 2020-09-19 10:33:06,470] Trial 70 finished with value: 0.38879511635270303 and parameters: {'criterion': 'mse', 'max_depth': 2, 'n_estimators': 135}. Best is trial 29 with value: 0.39546731804528235.\n",
            "[I 2020-09-19 10:33:06,961] Trial 71 finished with value: 0.38231266979263695 and parameters: {'criterion': 'mse', 'max_depth': 2, 'n_estimators': 118}. Best is trial 29 with value: 0.39546731804528235.\n",
            "[I 2020-09-19 10:33:07,686] Trial 72 finished with value: 0.3890269346702288 and parameters: {'criterion': 'mse', 'max_depth': 2, 'n_estimators': 179}. Best is trial 29 with value: 0.39546731804528235.\n",
            "[I 2020-09-19 10:33:08,113] Trial 73 finished with value: 0.39126600189952243 and parameters: {'criterion': 'mse', 'max_depth': 2, 'n_estimators': 100}. Best is trial 29 with value: 0.39546731804528235.\n",
            "[I 2020-09-19 10:33:08,540] Trial 74 finished with value: 0.39067969275706793 and parameters: {'criterion': 'mse', 'max_depth': 2, 'n_estimators': 100}. Best is trial 29 with value: 0.39546731804528235.\n",
            "[I 2020-09-19 10:33:09,127] Trial 75 finished with value: 0.3878351389480572 and parameters: {'criterion': 'mse', 'max_depth': 2, 'n_estimators': 144}. Best is trial 29 with value: 0.39546731804528235.\n",
            "[I 2020-09-19 10:33:09,566] Trial 76 finished with value: 0.390520112228546 and parameters: {'criterion': 'mse', 'max_depth': 2, 'n_estimators': 101}. Best is trial 29 with value: 0.39546731804528235.\n",
            "[I 2020-09-19 10:33:10,815] Trial 77 finished with value: 0.3880835376374197 and parameters: {'criterion': 'mse', 'max_depth': 2, 'n_estimators': 316}. Best is trial 29 with value: 0.39546731804528235.\n",
            "[I 2020-09-19 10:33:11,322] Trial 78 finished with value: 0.3890228053469927 and parameters: {'criterion': 'mse', 'max_depth': 2, 'n_estimators': 122}. Best is trial 29 with value: 0.39546731804528235.\n",
            "[I 2020-09-19 10:33:11,892] Trial 79 finished with value: 0.390706332464618 and parameters: {'criterion': 'mse', 'max_depth': 2, 'n_estimators': 137}. Best is trial 29 with value: 0.39546731804528235.\n",
            "[I 2020-09-19 10:33:12,559] Trial 80 finished with value: 0.39239234351624924 and parameters: {'criterion': 'mse', 'max_depth': 2, 'n_estimators': 160}. Best is trial 29 with value: 0.39546731804528235.\n",
            "[I 2020-09-19 10:33:13,223] Trial 81 finished with value: 0.3878410753620132 and parameters: {'criterion': 'mse', 'max_depth': 2, 'n_estimators': 163}. Best is trial 29 with value: 0.39546731804528235.\n",
            "[I 2020-09-19 10:33:13,870] Trial 82 finished with value: 0.39012586590302006 and parameters: {'criterion': 'mse', 'max_depth': 2, 'n_estimators': 156}. Best is trial 29 with value: 0.39546731804528235.\n",
            "[I 2020-09-19 10:33:14,321] Trial 83 finished with value: 0.3893921713368771 and parameters: {'criterion': 'mse', 'max_depth': 2, 'n_estimators': 107}. Best is trial 29 with value: 0.39546731804528235.\n",
            "[I 2020-09-19 10:33:15,532] Trial 84 finished with value: 0.38796227167763603 and parameters: {'criterion': 'mse', 'max_depth': 2, 'n_estimators': 301}. Best is trial 29 with value: 0.39546731804528235.\n",
            "[I 2020-09-19 10:33:16,131] Trial 85 finished with value: 0.39090222647575285 and parameters: {'criterion': 'mse', 'max_depth': 2, 'n_estimators': 146}. Best is trial 29 with value: 0.39546731804528235.\n",
            "[I 2020-09-19 10:33:16,636] Trial 86 finished with value: 0.39189531077358253 and parameters: {'criterion': 'mse', 'max_depth': 2, 'n_estimators': 120}. Best is trial 29 with value: 0.39546731804528235.\n",
            "[I 2020-09-19 10:33:17,139] Trial 87 finished with value: 0.3913647814033088 and parameters: {'criterion': 'mse', 'max_depth': 2, 'n_estimators': 123}. Best is trial 29 with value: 0.39546731804528235.\n",
            "[I 2020-09-19 10:33:17,712] Trial 88 finished with value: 0.38862806382491694 and parameters: {'criterion': 'mse', 'max_depth': 2, 'n_estimators': 138}. Best is trial 29 with value: 0.39546731804528235.\n",
            "[I 2020-09-19 10:33:18,448] Trial 89 finished with value: 0.38803820917618936 and parameters: {'criterion': 'mse', 'max_depth': 2, 'n_estimators': 185}. Best is trial 29 with value: 0.39546731804528235.\n",
            "[I 2020-09-19 10:33:19,136] Trial 90 finished with value: 0.3895508072161556 and parameters: {'criterion': 'mse', 'max_depth': 2, 'n_estimators': 168}. Best is trial 29 with value: 0.39546731804528235.\n",
            "[I 2020-09-19 10:33:19,659] Trial 91 finished with value: 0.37727178121552196 and parameters: {'criterion': 'mse', 'max_depth': 2, 'n_estimators': 123}. Best is trial 29 with value: 0.39546731804528235.\n",
            "[I 2020-09-19 10:33:20,217] Trial 92 finished with value: 0.3899026057803896 and parameters: {'criterion': 'mse', 'max_depth': 2, 'n_estimators': 132}. Best is trial 29 with value: 0.39546731804528235.\n",
            "[I 2020-09-19 10:33:20,705] Trial 93 finished with value: 0.38957017352468853 and parameters: {'criterion': 'mse', 'max_depth': 2, 'n_estimators': 116}. Best is trial 29 with value: 0.39546731804528235.\n",
            "[I 2020-09-19 10:33:21,323] Trial 94 finished with value: 0.3900116646364615 and parameters: {'criterion': 'mse', 'max_depth': 2, 'n_estimators': 151}. Best is trial 29 with value: 0.39546731804528235.\n",
            "[I 2020-09-19 10:33:21,987] Trial 95 finished with value: 0.3906365382997012 and parameters: {'criterion': 'mse', 'max_depth': 2, 'n_estimators': 162}. Best is trial 29 with value: 0.39546731804528235.\n",
            "[I 2020-09-19 10:33:22,441] Trial 96 finished with value: 0.3856635529840615 and parameters: {'criterion': 'mse', 'max_depth': 2, 'n_estimators': 108}. Best is trial 29 with value: 0.39546731804528235.\n",
            "[I 2020-09-19 10:33:22,970] Trial 97 finished with value: 0.3873593684868664 and parameters: {'criterion': 'mse', 'max_depth': 2, 'n_estimators': 126}. Best is trial 29 with value: 0.39546731804528235.\n",
            "[I 2020-09-19 10:33:24,061] Trial 98 finished with value: 0.3890302406967648 and parameters: {'criterion': 'mse', 'max_depth': 2, 'n_estimators': 270}. Best is trial 29 with value: 0.39546731804528235.\n",
            "[I 2020-09-19 10:33:24,763] Trial 99 finished with value: 0.3895345513697408 and parameters: {'criterion': 'mse', 'max_depth': 2, 'n_estimators': 172}. Best is trial 29 with value: 0.39546731804528235.\n",
            "[I 2020-09-19 10:33:25,351] Trial 100 finished with value: 0.384859477852715 and parameters: {'criterion': 'mse', 'max_depth': 2, 'n_estimators': 144}. Best is trial 29 with value: 0.39546731804528235.\n",
            "[I 2020-09-19 10:33:25,826] Trial 101 finished with value: 0.38759760163454987 and parameters: {'criterion': 'mse', 'max_depth': 2, 'n_estimators': 103}. Best is trial 29 with value: 0.39546731804528235.\n",
            "[I 2020-09-19 10:33:27,086] Trial 102 finished with value: 0.38634546356070737 and parameters: {'criterion': 'mse', 'max_depth': 2, 'n_estimators': 317}. Best is trial 29 with value: 0.39546731804528235.\n",
            "[I 2020-09-19 10:33:27,588] Trial 103 finished with value: 0.3904503920816089 and parameters: {'criterion': 'mse', 'max_depth': 2, 'n_estimators': 120}. Best is trial 29 with value: 0.39546731804528235.\n",
            "[I 2020-09-19 10:33:28,937] Trial 104 finished with value: 0.38897834329734743 and parameters: {'criterion': 'mse', 'max_depth': 2, 'n_estimators': 342}. Best is trial 29 with value: 0.39546731804528235.\n",
            "[I 2020-09-19 10:33:29,494] Trial 105 finished with value: 0.3831468931446025 and parameters: {'criterion': 'mse', 'max_depth': 2, 'n_estimators': 133}. Best is trial 29 with value: 0.39546731804528235.\n",
            "[I 2020-09-19 10:33:30,294] Trial 106 finished with value: 0.39185630824744905 and parameters: {'criterion': 'mse', 'max_depth': 2, 'n_estimators': 196}. Best is trial 29 with value: 0.39546731804528235.\n",
            "[I 2020-09-19 10:33:31,100] Trial 107 finished with value: 0.38669281340337386 and parameters: {'criterion': 'mse', 'max_depth': 2, 'n_estimators': 198}. Best is trial 29 with value: 0.39546731804528235.\n",
            "[I 2020-09-19 10:33:31,926] Trial 108 finished with value: 0.38918474582484536 and parameters: {'criterion': 'mse', 'max_depth': 2, 'n_estimators': 205}. Best is trial 29 with value: 0.39546731804528235.\n",
            "[I 2020-09-19 10:33:32,675] Trial 109 finished with value: 0.3880755720105579 and parameters: {'criterion': 'mse', 'max_depth': 2, 'n_estimators': 187}. Best is trial 29 with value: 0.39546731804528235.\n",
            "[I 2020-09-19 10:33:33,393] Trial 110 finished with value: 0.3924816107995128 and parameters: {'criterion': 'mse', 'max_depth': 2, 'n_estimators': 177}. Best is trial 29 with value: 0.39546731804528235.\n",
            "[I 2020-09-19 10:33:34,304] Trial 111 finished with value: 0.3864417328491651 and parameters: {'criterion': 'mse', 'max_depth': 2, 'n_estimators': 224}. Best is trial 29 with value: 0.39546731804528235.\n",
            "[I 2020-09-19 10:33:34,959] Trial 112 finished with value: 0.38868527138628783 and parameters: {'criterion': 'mse', 'max_depth': 2, 'n_estimators': 159}. Best is trial 29 with value: 0.39546731804528235.\n",
            "[I 2020-09-19 10:33:35,740] Trial 113 finished with value: 0.38808894157090573 and parameters: {'criterion': 'mse', 'max_depth': 2, 'n_estimators': 192}. Best is trial 29 with value: 0.39546731804528235.\n",
            "[I 2020-09-19 10:33:36,525] Trial 114 finished with value: 0.3883165977606873 and parameters: {'criterion': 'mse', 'max_depth': 2, 'n_estimators': 180}. Best is trial 29 with value: 0.39546731804528235.\n",
            "[I 2020-09-19 10:33:37,398] Trial 115 finished with value: 0.3900040861918949 and parameters: {'criterion': 'mse', 'max_depth': 2, 'n_estimators': 216}. Best is trial 29 with value: 0.39546731804528235.\n",
            "[I 2020-09-19 10:33:38,111] Trial 116 finished with value: 0.3862523795972557 and parameters: {'criterion': 'mse', 'max_depth': 2, 'n_estimators': 175}. Best is trial 29 with value: 0.39546731804528235.\n",
            "[I 2020-09-19 10:33:38,785] Trial 117 finished with value: 0.38689840706982365 and parameters: {'criterion': 'mse', 'max_depth': 2, 'n_estimators': 166}. Best is trial 29 with value: 0.39546731804528235.\n",
            "[I 2020-09-19 10:33:39,416] Trial 118 finished with value: 0.3851607456106582 and parameters: {'criterion': 'mse', 'max_depth': 2, 'n_estimators': 151}. Best is trial 29 with value: 0.39546731804528235.\n",
            "[I 2020-09-19 10:33:39,900] Trial 119 finished with value: 0.38831695951528006 and parameters: {'criterion': 'mse', 'max_depth': 2, 'n_estimators': 114}. Best is trial 29 with value: 0.39546731804528235.\n",
            "[I 2020-09-19 10:33:40,472] Trial 120 finished with value: 0.39335316650621394 and parameters: {'criterion': 'mse', 'max_depth': 2, 'n_estimators': 138}. Best is trial 29 with value: 0.39546731804528235.\n",
            "[I 2020-09-19 10:33:41,049] Trial 121 finished with value: 0.3865156965736796 and parameters: {'criterion': 'mse', 'max_depth': 2, 'n_estimators': 138}. Best is trial 29 with value: 0.39546731804528235.\n",
            "[I 2020-09-19 10:33:41,578] Trial 122 finished with value: 0.38608733982143467 and parameters: {'criterion': 'mse', 'max_depth': 2, 'n_estimators': 127}. Best is trial 29 with value: 0.39546731804528235.\n",
            "[I 2020-09-19 10:33:42,174] Trial 123 finished with value: 0.39286257244736483 and parameters: {'criterion': 'mse', 'max_depth': 2, 'n_estimators': 144}. Best is trial 29 with value: 0.39546731804528235.\n",
            "[I 2020-09-19 10:33:42,800] Trial 124 finished with value: 0.38812925054119046 and parameters: {'criterion': 'mse', 'max_depth': 2, 'n_estimators': 155}. Best is trial 29 with value: 0.39546731804528235.\n",
            "[I 2020-09-19 10:33:43,415] Trial 125 finished with value: 0.3852807749197497 and parameters: {'criterion': 'mse', 'max_depth': 2, 'n_estimators': 147}. Best is trial 29 with value: 0.39546731804528235.\n",
            "[I 2020-09-19 10:33:44,129] Trial 126 finished with value: 0.3884537297524395 and parameters: {'criterion': 'mse', 'max_depth': 2, 'n_estimators': 177}. Best is trial 29 with value: 0.39546731804528235.\n",
            "[I 2020-09-19 10:33:44,698] Trial 127 finished with value: 0.3834906899557536 and parameters: {'criterion': 'mse', 'max_depth': 2, 'n_estimators': 141}. Best is trial 29 with value: 0.39546731804528235.\n",
            "[I 2020-09-19 10:33:45,473] Trial 128 finished with value: 0.38939127970304016 and parameters: {'criterion': 'mse', 'max_depth': 2, 'n_estimators': 192}. Best is trial 29 with value: 0.39546731804528235.\n",
            "[I 2020-09-19 10:33:46,290] Trial 129 finished with value: 0.3924223367611468 and parameters: {'criterion': 'mse', 'max_depth': 2, 'n_estimators': 202}. Best is trial 29 with value: 0.39546731804528235.\n",
            "[I 2020-09-19 10:33:47,143] Trial 130 finished with value: 0.3895902538870681 and parameters: {'criterion': 'mse', 'max_depth': 2, 'n_estimators': 205}. Best is trial 29 with value: 0.39546731804528235.\n",
            "[I 2020-09-19 10:33:48,011] Trial 131 finished with value: 0.3871654771198847 and parameters: {'criterion': 'mse', 'max_depth': 2, 'n_estimators': 219}. Best is trial 29 with value: 0.39546731804528235.\n",
            "[I 2020-09-19 10:33:48,692] Trial 132 finished with value: 0.38801501223292467 and parameters: {'criterion': 'mse', 'max_depth': 2, 'n_estimators': 164}. Best is trial 29 with value: 0.39546731804528235.\n",
            "[I 2020-09-19 10:33:49,434] Trial 133 finished with value: 0.384778450684729 and parameters: {'criterion': 'mse', 'max_depth': 2, 'n_estimators': 181}. Best is trial 29 with value: 0.39546731804528235.\n",
            "[I 2020-09-19 10:33:50,601] Trial 134 finished with value: 0.38782278171277174 and parameters: {'criterion': 'mse', 'max_depth': 2, 'n_estimators': 293}. Best is trial 29 with value: 0.39546731804528235.\n",
            "[I 2020-09-19 10:33:51,295] Trial 135 finished with value: 0.3866065077178445 and parameters: {'criterion': 'mse', 'max_depth': 2, 'n_estimators': 171}. Best is trial 29 with value: 0.39546731804528235.\n",
            "[I 2020-09-19 10:33:51,854] Trial 136 finished with value: 0.3914943052670819 and parameters: {'criterion': 'mse', 'max_depth': 2, 'n_estimators': 136}. Best is trial 29 with value: 0.39546731804528235.\n",
            "[I 2020-09-19 10:33:52,830] Trial 137 finished with value: 0.3897968394172829 and parameters: {'criterion': 'mse', 'max_depth': 2, 'n_estimators': 245}. Best is trial 29 with value: 0.39546731804528235.\n",
            "[I 2020-09-19 10:33:53,654] Trial 138 finished with value: 0.38911365237040424 and parameters: {'criterion': 'mse', 'max_depth': 2, 'n_estimators': 202}. Best is trial 29 with value: 0.39546731804528235.\n",
            "[I 2020-09-19 10:33:54,974] Trial 139 finished with value: 0.3920643241476646 and parameters: {'criterion': 'mse', 'max_depth': 2, 'n_estimators': 328}. Best is trial 29 with value: 0.39546731804528235.\n",
            "[I 2020-09-19 10:33:56,288] Trial 140 finished with value: 0.38876473268595674 and parameters: {'criterion': 'mse', 'max_depth': 2, 'n_estimators': 333}. Best is trial 29 with value: 0.39546731804528235.\n",
            "[I 2020-09-19 10:33:57,757] Trial 141 finished with value: 0.3877560513265017 and parameters: {'criterion': 'mse', 'max_depth': 2, 'n_estimators': 371}. Best is trial 29 with value: 0.39546731804528235.\n",
            "[I 2020-09-19 10:33:59,043] Trial 142 finished with value: 0.38985507988904117 and parameters: {'criterion': 'mse', 'max_depth': 2, 'n_estimators': 324}. Best is trial 29 with value: 0.39546731804528235.\n",
            "[I 2020-09-19 10:34:00,270] Trial 143 finished with value: 0.3909553923199392 and parameters: {'criterion': 'mse', 'max_depth': 2, 'n_estimators': 309}. Best is trial 29 with value: 0.39546731804528235.\n",
            "[I 2020-09-19 10:34:01,544] Trial 144 finished with value: 0.3913365676212064 and parameters: {'criterion': 'mse', 'max_depth': 2, 'n_estimators': 322}. Best is trial 29 with value: 0.39546731804528235.\n",
            "[I 2020-09-19 10:34:02,893] Trial 145 finished with value: 0.3917405688403837 and parameters: {'criterion': 'mse', 'max_depth': 2, 'n_estimators': 341}. Best is trial 29 with value: 0.39546731804528235.\n",
            "[I 2020-09-19 10:34:04,228] Trial 146 finished with value: 0.39136604626975036 and parameters: {'criterion': 'mse', 'max_depth': 2, 'n_estimators': 339}. Best is trial 29 with value: 0.39546731804528235.\n",
            "[I 2020-09-19 10:34:08,080] Trial 147 finished with value: 0.37112881271705134 and parameters: {'criterion': 'mae', 'max_depth': 2, 'n_estimators': 352}. Best is trial 29 with value: 0.39546731804528235.\n",
            "[I 2020-09-19 10:34:09,494] Trial 148 finished with value: 0.3876230127548273 and parameters: {'criterion': 'mse', 'max_depth': 2, 'n_estimators': 354}. Best is trial 29 with value: 0.39546731804528235.\n",
            "[I 2020-09-19 10:34:10,812] Trial 149 finished with value: 0.38905834555893387 and parameters: {'criterion': 'mse', 'max_depth': 2, 'n_estimators': 334}. Best is trial 29 with value: 0.39546731804528235.\n"
          ],
          "name": "stderr"
        }
      ]
    },
    {
      "cell_type": "code",
      "metadata": {
        "id": "QW1K1kAvNmT4",
        "colab_type": "code",
        "colab": {
          "base_uri": "https://localhost:8080/",
          "height": 52
        },
        "outputId": "dcde5339-719d-4b2b-fc53-10cc161699ee"
      },
      "source": [
        "trial = study.best_trial\n",
        "print('Accuracy: {}'.format(trial.value))\n",
        "print(\"Best hyperparameters: {}\".format(trial.params))"
      ],
      "execution_count": 44,
      "outputs": [
        {
          "output_type": "stream",
          "text": [
            "Accuracy: 0.39546731804528235\n",
            "Best hyperparameters: {'criterion': 'mse', 'max_depth': 3, 'n_estimators': 320}\n"
          ],
          "name": "stdout"
        }
      ]
    },
    {
      "cell_type": "code",
      "metadata": {
        "id": "C-EOIOBzOxO_",
        "colab_type": "code",
        "colab": {
          "base_uri": "https://localhost:8080/",
          "height": 542
        },
        "outputId": "6f0eada7-9477-48e8-fa04-d6ded43de0bb"
      },
      "source": [
        "\n",
        "optuna.visualization.plot_optimization_history(study)"
      ],
      "execution_count": 45,
      "outputs": [
        {
          "output_type": "display_data",
          "data": {
            "text/html": [
              "<html>\n",
              "<head><meta charset=\"utf-8\" /></head>\n",
              "<body>\n",
              "    <div>\n",
              "            <script src=\"https://cdnjs.cloudflare.com/ajax/libs/mathjax/2.7.5/MathJax.js?config=TeX-AMS-MML_SVG\"></script><script type=\"text/javascript\">if (window.MathJax) {MathJax.Hub.Config({SVG: {font: \"STIX-Web\"}});}</script>\n",
              "                <script type=\"text/javascript\">window.PlotlyConfig = {MathJaxConfig: 'local'};</script>\n",
              "        <script src=\"https://cdn.plot.ly/plotly-latest.min.js\"></script>    \n",
              "            <div id=\"f7421dda-e5a6-4271-a5d1-0d9271332c70\" class=\"plotly-graph-div\" style=\"height:525px; width:100%;\"></div>\n",
              "            <script type=\"text/javascript\">\n",
              "                \n",
              "                    window.PLOTLYENV=window.PLOTLYENV || {};\n",
              "                    \n",
              "                if (document.getElementById(\"f7421dda-e5a6-4271-a5d1-0d9271332c70\")) {\n",
              "                    Plotly.newPlot(\n",
              "                        'f7421dda-e5a6-4271-a5d1-0d9271332c70',\n",
              "                        [{\"mode\": \"markers\", \"name\": \"Objective Value\", \"type\": \"scatter\", \"x\": [0, 1, 2, 3, 4, 5, 6, 7, 8, 9, 10, 11, 12, 13, 14, 15, 16, 17, 18, 19, 20, 21, 22, 23, 24, 25, 26, 27, 28, 29, 30, 31, 32, 33, 34, 35, 36, 37, 38, 39, 40, 41, 42, 43, 44, 45, 46, 47, 48, 49, 50, 51, 52, 53, 54, 55, 56, 57, 58, 59, 60, 61, 62, 63, 64, 65, 66, 67, 68, 69, 70, 71, 72, 73, 74, 75, 76, 77, 78, 79, 80, 81, 82, 83, 84, 85, 86, 87, 88, 89, 90, 91, 92, 93, 94, 95, 96, 97, 98, 99, 100, 101, 102, 103, 104, 105, 106, 107, 108, 109, 110, 111, 112, 113, 114, 115, 116, 117, 118, 119, 120, 121, 122, 123, 124, 125, 126, 127, 128, 129, 130, 131, 132, 133, 134, 135, 136, 137, 138, 139, 140, 141, 142, 143, 144, 145, 146, 147, 148, 149], \"y\": [0.34834617759346864, 0.3441085807448987, 0.38595975276972955, 0.3500675119710583, 0.3575352054206597, 0.3531396111897647, 0.35373898709440593, 0.3745562157829161, 0.34530912289879107, 0.3661279303883613, 0.38396006179214054, 0.3852386589810126, 0.3812903593233357, 0.38698290749431136, 0.3815985914764128, 0.37339729099593283, 0.3686213406335282, 0.3749981656300474, 0.38600153295488204, 0.3788680538379687, 0.37309356272435173, 0.38674178534618636, 0.38421520251743563, 0.3779858641750716, 0.3845847155902082, 0.37717624212610906, 0.3795386219636332, 0.37978406420607874, 0.38439821481511166, 0.39546731804528235, 0.36775921459084177, 0.3894648781087375, 0.387484888992863, 0.38916340935958477, 0.38855820139637176, 0.3897585627296752, 0.3908417046618669, 0.38906647820717627, 0.3934430377133887, 0.38911462196914126, 0.3860230871241533, 0.39084683522732117, 0.3902883277436962, 0.3862785250061413, 0.38969003646527495, 0.3910633749418655, 0.39340082782399843, 0.3876514999414331, 0.3919019576752086, 0.390917959710458, 0.3883769285609406, 0.3872035293309953, 0.39165476123161397, 0.38905398871289965, 0.39387858188674746, 0.3861492210846233, 0.3884672811563295, 0.38916214513671926, 0.38469867891803816, 0.3905162618187281, 0.38588908414764383, 0.3854654819636125, 0.390716331349844, 0.38843924770682875, 0.38875027125596723, 0.39015283758198693, 0.39008929962051636, 0.3888412578157448, 0.39260328463994965, 0.38876922046175594, 0.38879511635270303, 0.38231266979263695, 0.3890269346702288, 0.39126600189952243, 0.39067969275706793, 0.3878351389480572, 0.390520112228546, 0.3880835376374197, 0.3890228053469927, 0.390706332464618, 0.39239234351624924, 0.3878410753620132, 0.39012586590302006, 0.3893921713368771, 0.38796227167763603, 0.39090222647575285, 0.39189531077358253, 0.3913647814033088, 0.38862806382491694, 0.38803820917618936, 0.3895508072161556, 0.37727178121552196, 0.3899026057803896, 0.38957017352468853, 0.3900116646364615, 0.3906365382997012, 0.3856635529840615, 0.3873593684868664, 0.3890302406967648, 0.3895345513697408, 0.384859477852715, 0.38759760163454987, 0.38634546356070737, 0.3904503920816089, 0.38897834329734743, 0.3831468931446025, 0.39185630824744905, 0.38669281340337386, 0.38918474582484536, 0.3880755720105579, 0.3924816107995128, 0.3864417328491651, 0.38868527138628783, 0.38808894157090573, 0.3883165977606873, 0.3900040861918949, 0.3862523795972557, 0.38689840706982365, 0.3851607456106582, 0.38831695951528006, 0.39335316650621394, 0.3865156965736796, 0.38608733982143467, 0.39286257244736483, 0.38812925054119046, 0.3852807749197497, 0.3884537297524395, 0.3834906899557536, 0.38939127970304016, 0.3924223367611468, 0.3895902538870681, 0.3871654771198847, 0.38801501223292467, 0.384778450684729, 0.38782278171277174, 0.3866065077178445, 0.3914943052670819, 0.3897968394172829, 0.38911365237040424, 0.3920643241476646, 0.38876473268595674, 0.3877560513265017, 0.38985507988904117, 0.3909553923199392, 0.3913365676212064, 0.3917405688403837, 0.39136604626975036, 0.37112881271705134, 0.3876230127548273, 0.38905834555893387]}, {\"name\": \"Best Value\", \"type\": \"scatter\", \"x\": [0, 1, 2, 3, 4, 5, 6, 7, 8, 9, 10, 11, 12, 13, 14, 15, 16, 17, 18, 19, 20, 21, 22, 23, 24, 25, 26, 27, 28, 29, 30, 31, 32, 33, 34, 35, 36, 37, 38, 39, 40, 41, 42, 43, 44, 45, 46, 47, 48, 49, 50, 51, 52, 53, 54, 55, 56, 57, 58, 59, 60, 61, 62, 63, 64, 65, 66, 67, 68, 69, 70, 71, 72, 73, 74, 75, 76, 77, 78, 79, 80, 81, 82, 83, 84, 85, 86, 87, 88, 89, 90, 91, 92, 93, 94, 95, 96, 97, 98, 99, 100, 101, 102, 103, 104, 105, 106, 107, 108, 109, 110, 111, 112, 113, 114, 115, 116, 117, 118, 119, 120, 121, 122, 123, 124, 125, 126, 127, 128, 129, 130, 131, 132, 133, 134, 135, 136, 137, 138, 139, 140, 141, 142, 143, 144, 145, 146, 147, 148, 149], \"y\": [0.34834617759346864, 0.34834617759346864, 0.38595975276972955, 0.38595975276972955, 0.38595975276972955, 0.38595975276972955, 0.38595975276972955, 0.38595975276972955, 0.38595975276972955, 0.38595975276972955, 0.38595975276972955, 0.38595975276972955, 0.38595975276972955, 0.38698290749431136, 0.38698290749431136, 0.38698290749431136, 0.38698290749431136, 0.38698290749431136, 0.38698290749431136, 0.38698290749431136, 0.38698290749431136, 0.38698290749431136, 0.38698290749431136, 0.38698290749431136, 0.38698290749431136, 0.38698290749431136, 0.38698290749431136, 0.38698290749431136, 0.38698290749431136, 0.39546731804528235, 0.39546731804528235, 0.39546731804528235, 0.39546731804528235, 0.39546731804528235, 0.39546731804528235, 0.39546731804528235, 0.39546731804528235, 0.39546731804528235, 0.39546731804528235, 0.39546731804528235, 0.39546731804528235, 0.39546731804528235, 0.39546731804528235, 0.39546731804528235, 0.39546731804528235, 0.39546731804528235, 0.39546731804528235, 0.39546731804528235, 0.39546731804528235, 0.39546731804528235, 0.39546731804528235, 0.39546731804528235, 0.39546731804528235, 0.39546731804528235, 0.39546731804528235, 0.39546731804528235, 0.39546731804528235, 0.39546731804528235, 0.39546731804528235, 0.39546731804528235, 0.39546731804528235, 0.39546731804528235, 0.39546731804528235, 0.39546731804528235, 0.39546731804528235, 0.39546731804528235, 0.39546731804528235, 0.39546731804528235, 0.39546731804528235, 0.39546731804528235, 0.39546731804528235, 0.39546731804528235, 0.39546731804528235, 0.39546731804528235, 0.39546731804528235, 0.39546731804528235, 0.39546731804528235, 0.39546731804528235, 0.39546731804528235, 0.39546731804528235, 0.39546731804528235, 0.39546731804528235, 0.39546731804528235, 0.39546731804528235, 0.39546731804528235, 0.39546731804528235, 0.39546731804528235, 0.39546731804528235, 0.39546731804528235, 0.39546731804528235, 0.39546731804528235, 0.39546731804528235, 0.39546731804528235, 0.39546731804528235, 0.39546731804528235, 0.39546731804528235, 0.39546731804528235, 0.39546731804528235, 0.39546731804528235, 0.39546731804528235, 0.39546731804528235, 0.39546731804528235, 0.39546731804528235, 0.39546731804528235, 0.39546731804528235, 0.39546731804528235, 0.39546731804528235, 0.39546731804528235, 0.39546731804528235, 0.39546731804528235, 0.39546731804528235, 0.39546731804528235, 0.39546731804528235, 0.39546731804528235, 0.39546731804528235, 0.39546731804528235, 0.39546731804528235, 0.39546731804528235, 0.39546731804528235, 0.39546731804528235, 0.39546731804528235, 0.39546731804528235, 0.39546731804528235, 0.39546731804528235, 0.39546731804528235, 0.39546731804528235, 0.39546731804528235, 0.39546731804528235, 0.39546731804528235, 0.39546731804528235, 0.39546731804528235, 0.39546731804528235, 0.39546731804528235, 0.39546731804528235, 0.39546731804528235, 0.39546731804528235, 0.39546731804528235, 0.39546731804528235, 0.39546731804528235, 0.39546731804528235, 0.39546731804528235, 0.39546731804528235, 0.39546731804528235, 0.39546731804528235, 0.39546731804528235, 0.39546731804528235, 0.39546731804528235, 0.39546731804528235, 0.39546731804528235, 0.39546731804528235]}],\n",
              "                        {\"template\": {\"data\": {\"bar\": [{\"error_x\": {\"color\": \"#2a3f5f\"}, \"error_y\": {\"color\": \"#2a3f5f\"}, \"marker\": {\"line\": {\"color\": \"#E5ECF6\", \"width\": 0.5}}, \"type\": \"bar\"}], \"barpolar\": [{\"marker\": {\"line\": {\"color\": \"#E5ECF6\", \"width\": 0.5}}, \"type\": \"barpolar\"}], \"carpet\": [{\"aaxis\": {\"endlinecolor\": \"#2a3f5f\", \"gridcolor\": \"white\", \"linecolor\": \"white\", \"minorgridcolor\": \"white\", \"startlinecolor\": \"#2a3f5f\"}, \"baxis\": {\"endlinecolor\": \"#2a3f5f\", \"gridcolor\": \"white\", \"linecolor\": \"white\", \"minorgridcolor\": \"white\", \"startlinecolor\": \"#2a3f5f\"}, \"type\": \"carpet\"}], \"choropleth\": [{\"colorbar\": {\"outlinewidth\": 0, \"ticks\": \"\"}, \"type\": \"choropleth\"}], \"contour\": [{\"colorbar\": {\"outlinewidth\": 0, \"ticks\": \"\"}, \"colorscale\": [[0.0, \"#0d0887\"], [0.1111111111111111, \"#46039f\"], [0.2222222222222222, \"#7201a8\"], [0.3333333333333333, \"#9c179e\"], [0.4444444444444444, \"#bd3786\"], [0.5555555555555556, \"#d8576b\"], [0.6666666666666666, \"#ed7953\"], [0.7777777777777778, \"#fb9f3a\"], [0.8888888888888888, \"#fdca26\"], [1.0, \"#f0f921\"]], \"type\": \"contour\"}], \"contourcarpet\": [{\"colorbar\": {\"outlinewidth\": 0, \"ticks\": \"\"}, \"type\": \"contourcarpet\"}], \"heatmap\": [{\"colorbar\": {\"outlinewidth\": 0, \"ticks\": \"\"}, \"colorscale\": [[0.0, \"#0d0887\"], [0.1111111111111111, \"#46039f\"], [0.2222222222222222, \"#7201a8\"], [0.3333333333333333, \"#9c179e\"], [0.4444444444444444, \"#bd3786\"], [0.5555555555555556, \"#d8576b\"], [0.6666666666666666, \"#ed7953\"], [0.7777777777777778, \"#fb9f3a\"], [0.8888888888888888, \"#fdca26\"], [1.0, \"#f0f921\"]], \"type\": \"heatmap\"}], \"heatmapgl\": [{\"colorbar\": {\"outlinewidth\": 0, \"ticks\": \"\"}, \"colorscale\": [[0.0, \"#0d0887\"], [0.1111111111111111, \"#46039f\"], [0.2222222222222222, \"#7201a8\"], [0.3333333333333333, \"#9c179e\"], [0.4444444444444444, \"#bd3786\"], [0.5555555555555556, \"#d8576b\"], [0.6666666666666666, \"#ed7953\"], [0.7777777777777778, \"#fb9f3a\"], [0.8888888888888888, \"#fdca26\"], [1.0, \"#f0f921\"]], \"type\": \"heatmapgl\"}], \"histogram\": [{\"marker\": {\"colorbar\": {\"outlinewidth\": 0, \"ticks\": \"\"}}, \"type\": \"histogram\"}], \"histogram2d\": [{\"colorbar\": {\"outlinewidth\": 0, \"ticks\": \"\"}, \"colorscale\": [[0.0, \"#0d0887\"], [0.1111111111111111, \"#46039f\"], [0.2222222222222222, \"#7201a8\"], [0.3333333333333333, \"#9c179e\"], [0.4444444444444444, \"#bd3786\"], [0.5555555555555556, \"#d8576b\"], [0.6666666666666666, \"#ed7953\"], [0.7777777777777778, \"#fb9f3a\"], [0.8888888888888888, \"#fdca26\"], [1.0, \"#f0f921\"]], \"type\": \"histogram2d\"}], \"histogram2dcontour\": [{\"colorbar\": {\"outlinewidth\": 0, \"ticks\": \"\"}, \"colorscale\": [[0.0, \"#0d0887\"], [0.1111111111111111, \"#46039f\"], [0.2222222222222222, \"#7201a8\"], [0.3333333333333333, \"#9c179e\"], [0.4444444444444444, \"#bd3786\"], [0.5555555555555556, \"#d8576b\"], [0.6666666666666666, \"#ed7953\"], [0.7777777777777778, \"#fb9f3a\"], [0.8888888888888888, \"#fdca26\"], [1.0, \"#f0f921\"]], \"type\": \"histogram2dcontour\"}], \"mesh3d\": [{\"colorbar\": {\"outlinewidth\": 0, \"ticks\": \"\"}, \"type\": \"mesh3d\"}], \"parcoords\": [{\"line\": {\"colorbar\": {\"outlinewidth\": 0, \"ticks\": \"\"}}, \"type\": \"parcoords\"}], \"pie\": [{\"automargin\": true, \"type\": \"pie\"}], \"scatter\": [{\"marker\": {\"colorbar\": {\"outlinewidth\": 0, \"ticks\": \"\"}}, \"type\": \"scatter\"}], \"scatter3d\": [{\"line\": {\"colorbar\": {\"outlinewidth\": 0, \"ticks\": \"\"}}, \"marker\": {\"colorbar\": {\"outlinewidth\": 0, \"ticks\": \"\"}}, \"type\": \"scatter3d\"}], \"scattercarpet\": [{\"marker\": {\"colorbar\": {\"outlinewidth\": 0, \"ticks\": \"\"}}, \"type\": \"scattercarpet\"}], \"scattergeo\": [{\"marker\": {\"colorbar\": {\"outlinewidth\": 0, \"ticks\": \"\"}}, \"type\": \"scattergeo\"}], \"scattergl\": [{\"marker\": {\"colorbar\": {\"outlinewidth\": 0, \"ticks\": \"\"}}, \"type\": \"scattergl\"}], \"scattermapbox\": [{\"marker\": {\"colorbar\": {\"outlinewidth\": 0, \"ticks\": \"\"}}, \"type\": \"scattermapbox\"}], \"scatterpolar\": [{\"marker\": {\"colorbar\": {\"outlinewidth\": 0, \"ticks\": \"\"}}, \"type\": \"scatterpolar\"}], \"scatterpolargl\": [{\"marker\": {\"colorbar\": {\"outlinewidth\": 0, \"ticks\": \"\"}}, \"type\": \"scatterpolargl\"}], \"scatterternary\": [{\"marker\": {\"colorbar\": {\"outlinewidth\": 0, \"ticks\": \"\"}}, \"type\": \"scatterternary\"}], \"surface\": [{\"colorbar\": {\"outlinewidth\": 0, \"ticks\": \"\"}, \"colorscale\": [[0.0, \"#0d0887\"], [0.1111111111111111, \"#46039f\"], [0.2222222222222222, \"#7201a8\"], [0.3333333333333333, \"#9c179e\"], [0.4444444444444444, \"#bd3786\"], [0.5555555555555556, \"#d8576b\"], [0.6666666666666666, \"#ed7953\"], [0.7777777777777778, \"#fb9f3a\"], [0.8888888888888888, \"#fdca26\"], [1.0, \"#f0f921\"]], \"type\": \"surface\"}], \"table\": [{\"cells\": {\"fill\": {\"color\": \"#EBF0F8\"}, \"line\": {\"color\": \"white\"}}, \"header\": {\"fill\": {\"color\": \"#C8D4E3\"}, \"line\": {\"color\": \"white\"}}, \"type\": \"table\"}]}, \"layout\": {\"annotationdefaults\": {\"arrowcolor\": \"#2a3f5f\", \"arrowhead\": 0, \"arrowwidth\": 1}, \"coloraxis\": {\"colorbar\": {\"outlinewidth\": 0, \"ticks\": \"\"}}, \"colorscale\": {\"diverging\": [[0, \"#8e0152\"], [0.1, \"#c51b7d\"], [0.2, \"#de77ae\"], [0.3, \"#f1b6da\"], [0.4, \"#fde0ef\"], [0.5, \"#f7f7f7\"], [0.6, \"#e6f5d0\"], [0.7, \"#b8e186\"], [0.8, \"#7fbc41\"], [0.9, \"#4d9221\"], [1, \"#276419\"]], \"sequential\": [[0.0, \"#0d0887\"], [0.1111111111111111, \"#46039f\"], [0.2222222222222222, \"#7201a8\"], [0.3333333333333333, \"#9c179e\"], [0.4444444444444444, \"#bd3786\"], [0.5555555555555556, \"#d8576b\"], [0.6666666666666666, \"#ed7953\"], [0.7777777777777778, \"#fb9f3a\"], [0.8888888888888888, \"#fdca26\"], [1.0, \"#f0f921\"]], \"sequentialminus\": [[0.0, \"#0d0887\"], [0.1111111111111111, \"#46039f\"], [0.2222222222222222, \"#7201a8\"], [0.3333333333333333, \"#9c179e\"], [0.4444444444444444, \"#bd3786\"], [0.5555555555555556, \"#d8576b\"], [0.6666666666666666, \"#ed7953\"], [0.7777777777777778, \"#fb9f3a\"], [0.8888888888888888, \"#fdca26\"], [1.0, \"#f0f921\"]]}, \"colorway\": [\"#636efa\", \"#EF553B\", \"#00cc96\", \"#ab63fa\", \"#FFA15A\", \"#19d3f3\", \"#FF6692\", \"#B6E880\", \"#FF97FF\", \"#FECB52\"], \"font\": {\"color\": \"#2a3f5f\"}, \"geo\": {\"bgcolor\": \"white\", \"lakecolor\": \"white\", \"landcolor\": \"#E5ECF6\", \"showlakes\": true, \"showland\": true, \"subunitcolor\": \"white\"}, \"hoverlabel\": {\"align\": \"left\"}, \"hovermode\": \"closest\", \"mapbox\": {\"style\": \"light\"}, \"paper_bgcolor\": \"white\", \"plot_bgcolor\": \"#E5ECF6\", \"polar\": {\"angularaxis\": {\"gridcolor\": \"white\", \"linecolor\": \"white\", \"ticks\": \"\"}, \"bgcolor\": \"#E5ECF6\", \"radialaxis\": {\"gridcolor\": \"white\", \"linecolor\": \"white\", \"ticks\": \"\"}}, \"scene\": {\"xaxis\": {\"backgroundcolor\": \"#E5ECF6\", \"gridcolor\": \"white\", \"gridwidth\": 2, \"linecolor\": \"white\", \"showbackground\": true, \"ticks\": \"\", \"zerolinecolor\": \"white\"}, \"yaxis\": {\"backgroundcolor\": \"#E5ECF6\", \"gridcolor\": \"white\", \"gridwidth\": 2, \"linecolor\": \"white\", \"showbackground\": true, \"ticks\": \"\", \"zerolinecolor\": \"white\"}, \"zaxis\": {\"backgroundcolor\": \"#E5ECF6\", \"gridcolor\": \"white\", \"gridwidth\": 2, \"linecolor\": \"white\", \"showbackground\": true, \"ticks\": \"\", \"zerolinecolor\": \"white\"}}, \"shapedefaults\": {\"line\": {\"color\": \"#2a3f5f\"}}, \"ternary\": {\"aaxis\": {\"gridcolor\": \"white\", \"linecolor\": \"white\", \"ticks\": \"\"}, \"baxis\": {\"gridcolor\": \"white\", \"linecolor\": \"white\", \"ticks\": \"\"}, \"bgcolor\": \"#E5ECF6\", \"caxis\": {\"gridcolor\": \"white\", \"linecolor\": \"white\", \"ticks\": \"\"}}, \"title\": {\"x\": 0.05}, \"xaxis\": {\"automargin\": true, \"gridcolor\": \"white\", \"linecolor\": \"white\", \"ticks\": \"\", \"title\": {\"standoff\": 15}, \"zerolinecolor\": \"white\", \"zerolinewidth\": 2}, \"yaxis\": {\"automargin\": true, \"gridcolor\": \"white\", \"linecolor\": \"white\", \"ticks\": \"\", \"title\": {\"standoff\": 15}, \"zerolinecolor\": \"white\", \"zerolinewidth\": 2}}}, \"title\": {\"text\": \"Optimization History Plot\"}, \"xaxis\": {\"title\": {\"text\": \"#Trials\"}}, \"yaxis\": {\"title\": {\"text\": \"Objective Value\"}}},\n",
              "                        {\"responsive\": true}\n",
              "                    ).then(function(){\n",
              "                            \n",
              "var gd = document.getElementById('f7421dda-e5a6-4271-a5d1-0d9271332c70');\n",
              "var x = new MutationObserver(function (mutations, observer) {{\n",
              "        var display = window.getComputedStyle(gd).display;\n",
              "        if (!display || display === 'none') {{\n",
              "            console.log([gd, 'removed!']);\n",
              "            Plotly.purge(gd);\n",
              "            observer.disconnect();\n",
              "        }}\n",
              "}});\n",
              "\n",
              "// Listen for the removal of the full notebook cells\n",
              "var notebookContainer = gd.closest('#notebook-container');\n",
              "if (notebookContainer) {{\n",
              "    x.observe(notebookContainer, {childList: true});\n",
              "}}\n",
              "\n",
              "// Listen for the clearing of the current output cell\n",
              "var outputEl = gd.closest('.output');\n",
              "if (outputEl) {{\n",
              "    x.observe(outputEl, {childList: true});\n",
              "}}\n",
              "\n",
              "                        })\n",
              "                };\n",
              "                \n",
              "            </script>\n",
              "        </div>\n",
              "</body>\n",
              "</html>"
            ]
          },
          "metadata": {
            "tags": []
          }
        }
      ]
    },
    {
      "cell_type": "code",
      "metadata": {
        "id": "OLrUzdNlPAnf",
        "colab_type": "code",
        "colab": {
          "base_uri": "https://localhost:8080/",
          "height": 542
        },
        "outputId": "b4d728c3-5439-47bc-9340-591b003465be"
      },
      "source": [
        "optuna.visualization.plot_slice(study)\n"
      ],
      "execution_count": 46,
      "outputs": [
        {
          "output_type": "display_data",
          "data": {
            "text/html": [
              "<html>\n",
              "<head><meta charset=\"utf-8\" /></head>\n",
              "<body>\n",
              "    <div>\n",
              "            <script src=\"https://cdnjs.cloudflare.com/ajax/libs/mathjax/2.7.5/MathJax.js?config=TeX-AMS-MML_SVG\"></script><script type=\"text/javascript\">if (window.MathJax) {MathJax.Hub.Config({SVG: {font: \"STIX-Web\"}});}</script>\n",
              "                <script type=\"text/javascript\">window.PlotlyConfig = {MathJaxConfig: 'local'};</script>\n",
              "        <script src=\"https://cdn.plot.ly/plotly-latest.min.js\"></script>    \n",
              "            <div id=\"118a4c70-a0c4-4593-8a0e-e1fdfb8734ce\" class=\"plotly-graph-div\" style=\"height:525px; width:100%;\"></div>\n",
              "            <script type=\"text/javascript\">\n",
              "                \n",
              "                    window.PLOTLYENV=window.PLOTLYENV || {};\n",
              "                    \n",
              "                if (document.getElementById(\"118a4c70-a0c4-4593-8a0e-e1fdfb8734ce\")) {\n",
              "                    Plotly.newPlot(\n",
              "                        '118a4c70-a0c4-4593-8a0e-e1fdfb8734ce',\n",
              "                        [{\"marker\": {\"color\": [0, 1, 2, 3, 4, 5, 6, 7, 8, 9, 10, 11, 12, 13, 14, 15, 16, 17, 18, 19, 20, 21, 22, 23, 24, 25, 26, 27, 28, 29, 30, 31, 32, 33, 34, 35, 36, 37, 38, 39, 40, 41, 42, 43, 44, 45, 46, 47, 48, 49, 50, 51, 52, 53, 54, 55, 56, 57, 58, 59, 60, 61, 62, 63, 64, 65, 66, 67, 68, 69, 70, 71, 72, 73, 74, 75, 76, 77, 78, 79, 80, 81, 82, 83, 84, 85, 86, 87, 88, 89, 90, 91, 92, 93, 94, 95, 96, 97, 98, 99, 100, 101, 102, 103, 104, 105, 106, 107, 108, 109, 110, 111, 112, 113, 114, 115, 116, 117, 118, 119, 120, 121, 122, 123, 124, 125, 126, 127, 128, 129, 130, 131, 132, 133, 134, 135, 136, 137, 138, 139, 140, 141, 142, 143, 144, 145, 146, 147, 148, 149], \"colorbar\": {\"title\": {\"text\": \"#Trials\"}, \"x\": 1.0, \"xpad\": 40}, \"colorscale\": [[0.0, \"rgb(247,251,255)\"], [0.125, \"rgb(222,235,247)\"], [0.25, \"rgb(198,219,239)\"], [0.375, \"rgb(158,202,225)\"], [0.5, \"rgb(107,174,214)\"], [0.625, \"rgb(66,146,198)\"], [0.75, \"rgb(33,113,181)\"], [0.875, \"rgb(8,81,156)\"], [1.0, \"rgb(8,48,107)\"]], \"line\": {\"color\": \"Grey\", \"width\": 0.5}, \"showscale\": true}, \"mode\": \"markers\", \"showlegend\": false, \"type\": \"scatter\", \"x\": [\"mse\", \"mae\", \"mae\", \"mse\", \"mae\", \"mse\", \"mae\", \"mae\", \"mse\", \"mse\", \"mae\", \"mae\", \"mae\", \"mae\", \"mae\", \"mae\", \"mae\", \"mae\", \"mae\", \"mae\", \"mae\", \"mae\", \"mae\", \"mae\", \"mae\", \"mae\", \"mae\", \"mae\", \"mae\", \"mse\", \"mse\", \"mse\", \"mse\", \"mse\", \"mse\", \"mse\", \"mse\", \"mse\", \"mse\", \"mse\", \"mse\", \"mse\", \"mse\", \"mse\", \"mse\", \"mse\", \"mse\", \"mse\", \"mse\", \"mse\", \"mse\", \"mse\", \"mse\", \"mse\", \"mse\", \"mse\", \"mse\", \"mse\", \"mse\", \"mse\", \"mse\", \"mse\", \"mse\", \"mse\", \"mse\", \"mse\", \"mse\", \"mse\", \"mse\", \"mse\", \"mse\", \"mse\", \"mse\", \"mse\", \"mse\", \"mse\", \"mse\", \"mse\", \"mse\", \"mse\", \"mse\", \"mse\", \"mse\", \"mse\", \"mse\", \"mse\", \"mse\", \"mse\", \"mse\", \"mse\", \"mse\", \"mse\", \"mse\", \"mse\", \"mse\", \"mse\", \"mse\", \"mse\", \"mse\", \"mse\", \"mse\", \"mse\", \"mse\", \"mse\", \"mse\", \"mse\", \"mse\", \"mse\", \"mse\", \"mse\", \"mse\", \"mse\", \"mse\", \"mse\", \"mse\", \"mse\", \"mse\", \"mse\", \"mse\", \"mse\", \"mse\", \"mse\", \"mse\", \"mse\", \"mse\", \"mse\", \"mse\", \"mse\", \"mse\", \"mse\", \"mse\", \"mse\", \"mse\", \"mse\", \"mse\", \"mse\", \"mse\", \"mse\", \"mse\", \"mse\", \"mse\", \"mse\", \"mse\", \"mse\", \"mse\", \"mse\", \"mse\", \"mae\", \"mse\", \"mse\"], \"xaxis\": \"x\", \"y\": [0.34834617759346864, 0.3441085807448987, 0.38595975276972955, 0.3500675119710583, 0.3575352054206597, 0.3531396111897647, 0.35373898709440593, 0.3745562157829161, 0.34530912289879107, 0.3661279303883613, 0.38396006179214054, 0.3852386589810126, 0.3812903593233357, 0.38698290749431136, 0.3815985914764128, 0.37339729099593283, 0.3686213406335282, 0.3749981656300474, 0.38600153295488204, 0.3788680538379687, 0.37309356272435173, 0.38674178534618636, 0.38421520251743563, 0.3779858641750716, 0.3845847155902082, 0.37717624212610906, 0.3795386219636332, 0.37978406420607874, 0.38439821481511166, 0.39546731804528235, 0.36775921459084177, 0.3894648781087375, 0.387484888992863, 0.38916340935958477, 0.38855820139637176, 0.3897585627296752, 0.3908417046618669, 0.38906647820717627, 0.3934430377133887, 0.38911462196914126, 0.3860230871241533, 0.39084683522732117, 0.3902883277436962, 0.3862785250061413, 0.38969003646527495, 0.3910633749418655, 0.39340082782399843, 0.3876514999414331, 0.3919019576752086, 0.390917959710458, 0.3883769285609406, 0.3872035293309953, 0.39165476123161397, 0.38905398871289965, 0.39387858188674746, 0.3861492210846233, 0.3884672811563295, 0.38916214513671926, 0.38469867891803816, 0.3905162618187281, 0.38588908414764383, 0.3854654819636125, 0.390716331349844, 0.38843924770682875, 0.38875027125596723, 0.39015283758198693, 0.39008929962051636, 0.3888412578157448, 0.39260328463994965, 0.38876922046175594, 0.38879511635270303, 0.38231266979263695, 0.3890269346702288, 0.39126600189952243, 0.39067969275706793, 0.3878351389480572, 0.390520112228546, 0.3880835376374197, 0.3890228053469927, 0.390706332464618, 0.39239234351624924, 0.3878410753620132, 0.39012586590302006, 0.3893921713368771, 0.38796227167763603, 0.39090222647575285, 0.39189531077358253, 0.3913647814033088, 0.38862806382491694, 0.38803820917618936, 0.3895508072161556, 0.37727178121552196, 0.3899026057803896, 0.38957017352468853, 0.3900116646364615, 0.3906365382997012, 0.3856635529840615, 0.3873593684868664, 0.3890302406967648, 0.3895345513697408, 0.384859477852715, 0.38759760163454987, 0.38634546356070737, 0.3904503920816089, 0.38897834329734743, 0.3831468931446025, 0.39185630824744905, 0.38669281340337386, 0.38918474582484536, 0.3880755720105579, 0.3924816107995128, 0.3864417328491651, 0.38868527138628783, 0.38808894157090573, 0.3883165977606873, 0.3900040861918949, 0.3862523795972557, 0.38689840706982365, 0.3851607456106582, 0.38831695951528006, 0.39335316650621394, 0.3865156965736796, 0.38608733982143467, 0.39286257244736483, 0.38812925054119046, 0.3852807749197497, 0.3884537297524395, 0.3834906899557536, 0.38939127970304016, 0.3924223367611468, 0.3895902538870681, 0.3871654771198847, 0.38801501223292467, 0.384778450684729, 0.38782278171277174, 0.3866065077178445, 0.3914943052670819, 0.3897968394172829, 0.38911365237040424, 0.3920643241476646, 0.38876473268595674, 0.3877560513265017, 0.38985507988904117, 0.3909553923199392, 0.3913365676212064, 0.3917405688403837, 0.39136604626975036, 0.37112881271705134, 0.3876230127548273, 0.38905834555893387], \"yaxis\": \"y\"}, {\"marker\": {\"color\": [0, 1, 2, 3, 4, 5, 6, 7, 8, 9, 10, 11, 12, 13, 14, 15, 16, 17, 18, 19, 20, 21, 22, 23, 24, 25, 26, 27, 28, 29, 30, 31, 32, 33, 34, 35, 36, 37, 38, 39, 40, 41, 42, 43, 44, 45, 46, 47, 48, 49, 50, 51, 52, 53, 54, 55, 56, 57, 58, 59, 60, 61, 62, 63, 64, 65, 66, 67, 68, 69, 70, 71, 72, 73, 74, 75, 76, 77, 78, 79, 80, 81, 82, 83, 84, 85, 86, 87, 88, 89, 90, 91, 92, 93, 94, 95, 96, 97, 98, 99, 100, 101, 102, 103, 104, 105, 106, 107, 108, 109, 110, 111, 112, 113, 114, 115, 116, 117, 118, 119, 120, 121, 122, 123, 124, 125, 126, 127, 128, 129, 130, 131, 132, 133, 134, 135, 136, 137, 138, 139, 140, 141, 142, 143, 144, 145, 146, 147, 148, 149], \"colorbar\": {\"title\": {\"text\": \"#Trials\"}, \"x\": 1.0, \"xpad\": 40}, \"colorscale\": [[0.0, \"rgb(247,251,255)\"], [0.125, \"rgb(222,235,247)\"], [0.25, \"rgb(198,219,239)\"], [0.375, \"rgb(158,202,225)\"], [0.5, \"rgb(107,174,214)\"], [0.625, \"rgb(66,146,198)\"], [0.75, \"rgb(33,113,181)\"], [0.875, \"rgb(8,81,156)\"], [1.0, \"rgb(8,48,107)\"]], \"line\": {\"color\": \"Grey\", \"width\": 0.5}, \"showscale\": false}, \"mode\": \"markers\", \"showlegend\": false, \"type\": \"scatter\", \"x\": [14, 18, 3, 29, 16, 10, 25, 2, 12, 8, 3, 3, 4, 4, 5, 2, 6, 2, 3, 4, 2, 3, 4, 2, 3, 2, 5, 2, 3, 3, 7, 2, 2, 2, 2, 2, 2, 2, 2, 2, 2, 2, 2, 2, 2, 2, 2, 2, 2, 2, 2, 2, 2, 2, 2, 2, 2, 2, 2, 2, 2, 2, 2, 2, 2, 2, 2, 2, 2, 2, 2, 2, 2, 2, 2, 2, 2, 2, 2, 2, 2, 2, 2, 2, 2, 2, 2, 2, 2, 2, 2, 2, 2, 2, 2, 2, 2, 2, 2, 2, 2, 2, 2, 2, 2, 2, 2, 2, 2, 2, 2, 2, 2, 2, 2, 2, 2, 2, 2, 2, 2, 2, 2, 2, 2, 2, 2, 2, 2, 2, 2, 2, 2, 2, 2, 2, 2, 2, 2, 2, 2, 2, 2, 2, 2, 2, 2, 2, 2, 2], \"xaxis\": \"x2\", \"y\": [0.34834617759346864, 0.3441085807448987, 0.38595975276972955, 0.3500675119710583, 0.3575352054206597, 0.3531396111897647, 0.35373898709440593, 0.3745562157829161, 0.34530912289879107, 0.3661279303883613, 0.38396006179214054, 0.3852386589810126, 0.3812903593233357, 0.38698290749431136, 0.3815985914764128, 0.37339729099593283, 0.3686213406335282, 0.3749981656300474, 0.38600153295488204, 0.3788680538379687, 0.37309356272435173, 0.38674178534618636, 0.38421520251743563, 0.3779858641750716, 0.3845847155902082, 0.37717624212610906, 0.3795386219636332, 0.37978406420607874, 0.38439821481511166, 0.39546731804528235, 0.36775921459084177, 0.3894648781087375, 0.387484888992863, 0.38916340935958477, 0.38855820139637176, 0.3897585627296752, 0.3908417046618669, 0.38906647820717627, 0.3934430377133887, 0.38911462196914126, 0.3860230871241533, 0.39084683522732117, 0.3902883277436962, 0.3862785250061413, 0.38969003646527495, 0.3910633749418655, 0.39340082782399843, 0.3876514999414331, 0.3919019576752086, 0.390917959710458, 0.3883769285609406, 0.3872035293309953, 0.39165476123161397, 0.38905398871289965, 0.39387858188674746, 0.3861492210846233, 0.3884672811563295, 0.38916214513671926, 0.38469867891803816, 0.3905162618187281, 0.38588908414764383, 0.3854654819636125, 0.390716331349844, 0.38843924770682875, 0.38875027125596723, 0.39015283758198693, 0.39008929962051636, 0.3888412578157448, 0.39260328463994965, 0.38876922046175594, 0.38879511635270303, 0.38231266979263695, 0.3890269346702288, 0.39126600189952243, 0.39067969275706793, 0.3878351389480572, 0.390520112228546, 0.3880835376374197, 0.3890228053469927, 0.390706332464618, 0.39239234351624924, 0.3878410753620132, 0.39012586590302006, 0.3893921713368771, 0.38796227167763603, 0.39090222647575285, 0.39189531077358253, 0.3913647814033088, 0.38862806382491694, 0.38803820917618936, 0.3895508072161556, 0.37727178121552196, 0.3899026057803896, 0.38957017352468853, 0.3900116646364615, 0.3906365382997012, 0.3856635529840615, 0.3873593684868664, 0.3890302406967648, 0.3895345513697408, 0.384859477852715, 0.38759760163454987, 0.38634546356070737, 0.3904503920816089, 0.38897834329734743, 0.3831468931446025, 0.39185630824744905, 0.38669281340337386, 0.38918474582484536, 0.3880755720105579, 0.3924816107995128, 0.3864417328491651, 0.38868527138628783, 0.38808894157090573, 0.3883165977606873, 0.3900040861918949, 0.3862523795972557, 0.38689840706982365, 0.3851607456106582, 0.38831695951528006, 0.39335316650621394, 0.3865156965736796, 0.38608733982143467, 0.39286257244736483, 0.38812925054119046, 0.3852807749197497, 0.3884537297524395, 0.3834906899557536, 0.38939127970304016, 0.3924223367611468, 0.3895902538870681, 0.3871654771198847, 0.38801501223292467, 0.384778450684729, 0.38782278171277174, 0.3866065077178445, 0.3914943052670819, 0.3897968394172829, 0.38911365237040424, 0.3920643241476646, 0.38876473268595674, 0.3877560513265017, 0.38985507988904117, 0.3909553923199392, 0.3913365676212064, 0.3917405688403837, 0.39136604626975036, 0.37112881271705134, 0.3876230127548273, 0.38905834555893387], \"yaxis\": \"y2\"}, {\"marker\": {\"color\": [0, 1, 2, 3, 4, 5, 6, 7, 8, 9, 10, 11, 12, 13, 14, 15, 16, 17, 18, 19, 20, 21, 22, 23, 24, 25, 26, 27, 28, 29, 30, 31, 32, 33, 34, 35, 36, 37, 38, 39, 40, 41, 42, 43, 44, 45, 46, 47, 48, 49, 50, 51, 52, 53, 54, 55, 56, 57, 58, 59, 60, 61, 62, 63, 64, 65, 66, 67, 68, 69, 70, 71, 72, 73, 74, 75, 76, 77, 78, 79, 80, 81, 82, 83, 84, 85, 86, 87, 88, 89, 90, 91, 92, 93, 94, 95, 96, 97, 98, 99, 100, 101, 102, 103, 104, 105, 106, 107, 108, 109, 110, 111, 112, 113, 114, 115, 116, 117, 118, 119, 120, 121, 122, 123, 124, 125, 126, 127, 128, 129, 130, 131, 132, 133, 134, 135, 136, 137, 138, 139, 140, 141, 142, 143, 144, 145, 146, 147, 148, 149], \"colorbar\": {\"title\": {\"text\": \"#Trials\"}, \"x\": 1.0, \"xpad\": 40}, \"colorscale\": [[0.0, \"rgb(247,251,255)\"], [0.125, \"rgb(222,235,247)\"], [0.25, \"rgb(198,219,239)\"], [0.375, \"rgb(158,202,225)\"], [0.5, \"rgb(107,174,214)\"], [0.625, \"rgb(66,146,198)\"], [0.75, \"rgb(33,113,181)\"], [0.875, \"rgb(8,81,156)\"], [1.0, \"rgb(8,48,107)\"]], \"line\": {\"color\": \"Grey\", \"width\": 0.5}, \"showscale\": false}, \"mode\": \"markers\", \"showlegend\": false, \"type\": \"scatter\", \"x\": [311, 147, 328, 144, 453, 304, 129, 201, 159, 141, 420, 418, 380, 357, 260, 361, 494, 260, 345, 254, 355, 329, 403, 343, 286, 455, 371, 210, 390, 320, 309, 334, 327, 282, 283, 285, 231, 227, 176, 173, 110, 235, 236, 184, 230, 235, 197, 194, 156, 114, 163, 101, 123, 142, 131, 132, 152, 128, 174, 208, 125, 168, 196, 150, 187, 215, 157, 250, 116, 112, 135, 118, 179, 100, 100, 144, 101, 316, 122, 137, 160, 163, 156, 107, 301, 146, 120, 123, 138, 185, 168, 123, 132, 116, 151, 162, 108, 126, 270, 172, 144, 103, 317, 120, 342, 133, 196, 198, 205, 187, 177, 224, 159, 192, 180, 216, 175, 166, 151, 114, 138, 138, 127, 144, 155, 147, 177, 141, 192, 202, 205, 219, 164, 181, 293, 171, 136, 245, 202, 328, 333, 371, 324, 309, 322, 341, 339, 352, 354, 334], \"xaxis\": \"x3\", \"y\": [0.34834617759346864, 0.3441085807448987, 0.38595975276972955, 0.3500675119710583, 0.3575352054206597, 0.3531396111897647, 0.35373898709440593, 0.3745562157829161, 0.34530912289879107, 0.3661279303883613, 0.38396006179214054, 0.3852386589810126, 0.3812903593233357, 0.38698290749431136, 0.3815985914764128, 0.37339729099593283, 0.3686213406335282, 0.3749981656300474, 0.38600153295488204, 0.3788680538379687, 0.37309356272435173, 0.38674178534618636, 0.38421520251743563, 0.3779858641750716, 0.3845847155902082, 0.37717624212610906, 0.3795386219636332, 0.37978406420607874, 0.38439821481511166, 0.39546731804528235, 0.36775921459084177, 0.3894648781087375, 0.387484888992863, 0.38916340935958477, 0.38855820139637176, 0.3897585627296752, 0.3908417046618669, 0.38906647820717627, 0.3934430377133887, 0.38911462196914126, 0.3860230871241533, 0.39084683522732117, 0.3902883277436962, 0.3862785250061413, 0.38969003646527495, 0.3910633749418655, 0.39340082782399843, 0.3876514999414331, 0.3919019576752086, 0.390917959710458, 0.3883769285609406, 0.3872035293309953, 0.39165476123161397, 0.38905398871289965, 0.39387858188674746, 0.3861492210846233, 0.3884672811563295, 0.38916214513671926, 0.38469867891803816, 0.3905162618187281, 0.38588908414764383, 0.3854654819636125, 0.390716331349844, 0.38843924770682875, 0.38875027125596723, 0.39015283758198693, 0.39008929962051636, 0.3888412578157448, 0.39260328463994965, 0.38876922046175594, 0.38879511635270303, 0.38231266979263695, 0.3890269346702288, 0.39126600189952243, 0.39067969275706793, 0.3878351389480572, 0.390520112228546, 0.3880835376374197, 0.3890228053469927, 0.390706332464618, 0.39239234351624924, 0.3878410753620132, 0.39012586590302006, 0.3893921713368771, 0.38796227167763603, 0.39090222647575285, 0.39189531077358253, 0.3913647814033088, 0.38862806382491694, 0.38803820917618936, 0.3895508072161556, 0.37727178121552196, 0.3899026057803896, 0.38957017352468853, 0.3900116646364615, 0.3906365382997012, 0.3856635529840615, 0.3873593684868664, 0.3890302406967648, 0.3895345513697408, 0.384859477852715, 0.38759760163454987, 0.38634546356070737, 0.3904503920816089, 0.38897834329734743, 0.3831468931446025, 0.39185630824744905, 0.38669281340337386, 0.38918474582484536, 0.3880755720105579, 0.3924816107995128, 0.3864417328491651, 0.38868527138628783, 0.38808894157090573, 0.3883165977606873, 0.3900040861918949, 0.3862523795972557, 0.38689840706982365, 0.3851607456106582, 0.38831695951528006, 0.39335316650621394, 0.3865156965736796, 0.38608733982143467, 0.39286257244736483, 0.38812925054119046, 0.3852807749197497, 0.3884537297524395, 0.3834906899557536, 0.38939127970304016, 0.3924223367611468, 0.3895902538870681, 0.3871654771198847, 0.38801501223292467, 0.384778450684729, 0.38782278171277174, 0.3866065077178445, 0.3914943052670819, 0.3897968394172829, 0.38911365237040424, 0.3920643241476646, 0.38876473268595674, 0.3877560513265017, 0.38985507988904117, 0.3909553923199392, 0.3913365676212064, 0.3917405688403837, 0.39136604626975036, 0.37112881271705134, 0.3876230127548273, 0.38905834555893387], \"yaxis\": \"y3\"}],\n",
              "                        {\"template\": {\"data\": {\"bar\": [{\"error_x\": {\"color\": \"#2a3f5f\"}, \"error_y\": {\"color\": \"#2a3f5f\"}, \"marker\": {\"line\": {\"color\": \"#E5ECF6\", \"width\": 0.5}}, \"type\": \"bar\"}], \"barpolar\": [{\"marker\": {\"line\": {\"color\": \"#E5ECF6\", \"width\": 0.5}}, \"type\": \"barpolar\"}], \"carpet\": [{\"aaxis\": {\"endlinecolor\": \"#2a3f5f\", \"gridcolor\": \"white\", \"linecolor\": \"white\", \"minorgridcolor\": \"white\", \"startlinecolor\": \"#2a3f5f\"}, \"baxis\": {\"endlinecolor\": \"#2a3f5f\", \"gridcolor\": \"white\", \"linecolor\": \"white\", \"minorgridcolor\": \"white\", \"startlinecolor\": \"#2a3f5f\"}, \"type\": \"carpet\"}], \"choropleth\": [{\"colorbar\": {\"outlinewidth\": 0, \"ticks\": \"\"}, \"type\": \"choropleth\"}], \"contour\": [{\"colorbar\": {\"outlinewidth\": 0, \"ticks\": \"\"}, \"colorscale\": [[0.0, \"#0d0887\"], [0.1111111111111111, \"#46039f\"], [0.2222222222222222, \"#7201a8\"], [0.3333333333333333, \"#9c179e\"], [0.4444444444444444, \"#bd3786\"], [0.5555555555555556, \"#d8576b\"], [0.6666666666666666, \"#ed7953\"], [0.7777777777777778, \"#fb9f3a\"], [0.8888888888888888, \"#fdca26\"], [1.0, \"#f0f921\"]], \"type\": \"contour\"}], \"contourcarpet\": [{\"colorbar\": {\"outlinewidth\": 0, \"ticks\": \"\"}, \"type\": \"contourcarpet\"}], \"heatmap\": [{\"colorbar\": {\"outlinewidth\": 0, \"ticks\": \"\"}, \"colorscale\": [[0.0, \"#0d0887\"], [0.1111111111111111, \"#46039f\"], [0.2222222222222222, \"#7201a8\"], [0.3333333333333333, \"#9c179e\"], [0.4444444444444444, \"#bd3786\"], [0.5555555555555556, \"#d8576b\"], [0.6666666666666666, \"#ed7953\"], [0.7777777777777778, \"#fb9f3a\"], [0.8888888888888888, \"#fdca26\"], [1.0, \"#f0f921\"]], \"type\": \"heatmap\"}], \"heatmapgl\": [{\"colorbar\": {\"outlinewidth\": 0, \"ticks\": \"\"}, \"colorscale\": [[0.0, \"#0d0887\"], [0.1111111111111111, \"#46039f\"], [0.2222222222222222, \"#7201a8\"], [0.3333333333333333, \"#9c179e\"], [0.4444444444444444, \"#bd3786\"], [0.5555555555555556, \"#d8576b\"], [0.6666666666666666, \"#ed7953\"], [0.7777777777777778, \"#fb9f3a\"], [0.8888888888888888, \"#fdca26\"], [1.0, \"#f0f921\"]], \"type\": \"heatmapgl\"}], \"histogram\": [{\"marker\": {\"colorbar\": {\"outlinewidth\": 0, \"ticks\": \"\"}}, \"type\": \"histogram\"}], \"histogram2d\": [{\"colorbar\": {\"outlinewidth\": 0, \"ticks\": \"\"}, \"colorscale\": [[0.0, \"#0d0887\"], [0.1111111111111111, \"#46039f\"], [0.2222222222222222, \"#7201a8\"], [0.3333333333333333, \"#9c179e\"], [0.4444444444444444, \"#bd3786\"], [0.5555555555555556, \"#d8576b\"], [0.6666666666666666, \"#ed7953\"], [0.7777777777777778, \"#fb9f3a\"], [0.8888888888888888, \"#fdca26\"], [1.0, \"#f0f921\"]], \"type\": \"histogram2d\"}], \"histogram2dcontour\": [{\"colorbar\": {\"outlinewidth\": 0, \"ticks\": \"\"}, \"colorscale\": [[0.0, \"#0d0887\"], [0.1111111111111111, \"#46039f\"], [0.2222222222222222, \"#7201a8\"], [0.3333333333333333, \"#9c179e\"], [0.4444444444444444, \"#bd3786\"], [0.5555555555555556, \"#d8576b\"], [0.6666666666666666, \"#ed7953\"], [0.7777777777777778, \"#fb9f3a\"], [0.8888888888888888, \"#fdca26\"], [1.0, \"#f0f921\"]], \"type\": \"histogram2dcontour\"}], \"mesh3d\": [{\"colorbar\": {\"outlinewidth\": 0, \"ticks\": \"\"}, \"type\": \"mesh3d\"}], \"parcoords\": [{\"line\": {\"colorbar\": {\"outlinewidth\": 0, \"ticks\": \"\"}}, \"type\": \"parcoords\"}], \"pie\": [{\"automargin\": true, \"type\": \"pie\"}], \"scatter\": [{\"marker\": {\"colorbar\": {\"outlinewidth\": 0, \"ticks\": \"\"}}, \"type\": \"scatter\"}], \"scatter3d\": [{\"line\": {\"colorbar\": {\"outlinewidth\": 0, \"ticks\": \"\"}}, \"marker\": {\"colorbar\": {\"outlinewidth\": 0, \"ticks\": \"\"}}, \"type\": \"scatter3d\"}], \"scattercarpet\": [{\"marker\": {\"colorbar\": {\"outlinewidth\": 0, \"ticks\": \"\"}}, \"type\": \"scattercarpet\"}], \"scattergeo\": [{\"marker\": {\"colorbar\": {\"outlinewidth\": 0, \"ticks\": \"\"}}, \"type\": \"scattergeo\"}], \"scattergl\": [{\"marker\": {\"colorbar\": {\"outlinewidth\": 0, \"ticks\": \"\"}}, \"type\": \"scattergl\"}], \"scattermapbox\": [{\"marker\": {\"colorbar\": {\"outlinewidth\": 0, \"ticks\": \"\"}}, \"type\": \"scattermapbox\"}], \"scatterpolar\": [{\"marker\": {\"colorbar\": {\"outlinewidth\": 0, \"ticks\": \"\"}}, \"type\": \"scatterpolar\"}], \"scatterpolargl\": [{\"marker\": {\"colorbar\": {\"outlinewidth\": 0, \"ticks\": \"\"}}, \"type\": \"scatterpolargl\"}], \"scatterternary\": [{\"marker\": {\"colorbar\": {\"outlinewidth\": 0, \"ticks\": \"\"}}, \"type\": \"scatterternary\"}], \"surface\": [{\"colorbar\": {\"outlinewidth\": 0, \"ticks\": \"\"}, \"colorscale\": [[0.0, \"#0d0887\"], [0.1111111111111111, \"#46039f\"], [0.2222222222222222, \"#7201a8\"], [0.3333333333333333, \"#9c179e\"], [0.4444444444444444, \"#bd3786\"], [0.5555555555555556, \"#d8576b\"], [0.6666666666666666, \"#ed7953\"], [0.7777777777777778, \"#fb9f3a\"], [0.8888888888888888, \"#fdca26\"], [1.0, \"#f0f921\"]], \"type\": \"surface\"}], \"table\": [{\"cells\": {\"fill\": {\"color\": \"#EBF0F8\"}, \"line\": {\"color\": \"white\"}}, \"header\": {\"fill\": {\"color\": \"#C8D4E3\"}, \"line\": {\"color\": \"white\"}}, \"type\": \"table\"}]}, \"layout\": {\"annotationdefaults\": {\"arrowcolor\": \"#2a3f5f\", \"arrowhead\": 0, \"arrowwidth\": 1}, \"coloraxis\": {\"colorbar\": {\"outlinewidth\": 0, \"ticks\": \"\"}}, \"colorscale\": {\"diverging\": [[0, \"#8e0152\"], [0.1, \"#c51b7d\"], [0.2, \"#de77ae\"], [0.3, \"#f1b6da\"], [0.4, \"#fde0ef\"], [0.5, \"#f7f7f7\"], [0.6, \"#e6f5d0\"], [0.7, \"#b8e186\"], [0.8, \"#7fbc41\"], [0.9, \"#4d9221\"], [1, \"#276419\"]], \"sequential\": [[0.0, \"#0d0887\"], [0.1111111111111111, \"#46039f\"], [0.2222222222222222, \"#7201a8\"], [0.3333333333333333, \"#9c179e\"], [0.4444444444444444, \"#bd3786\"], [0.5555555555555556, \"#d8576b\"], [0.6666666666666666, \"#ed7953\"], [0.7777777777777778, \"#fb9f3a\"], [0.8888888888888888, \"#fdca26\"], [1.0, \"#f0f921\"]], \"sequentialminus\": [[0.0, \"#0d0887\"], [0.1111111111111111, \"#46039f\"], [0.2222222222222222, \"#7201a8\"], [0.3333333333333333, \"#9c179e\"], [0.4444444444444444, \"#bd3786\"], [0.5555555555555556, \"#d8576b\"], [0.6666666666666666, \"#ed7953\"], [0.7777777777777778, \"#fb9f3a\"], [0.8888888888888888, \"#fdca26\"], [1.0, \"#f0f921\"]]}, \"colorway\": [\"#636efa\", \"#EF553B\", \"#00cc96\", \"#ab63fa\", \"#FFA15A\", \"#19d3f3\", \"#FF6692\", \"#B6E880\", \"#FF97FF\", \"#FECB52\"], \"font\": {\"color\": \"#2a3f5f\"}, \"geo\": {\"bgcolor\": \"white\", \"lakecolor\": \"white\", \"landcolor\": \"#E5ECF6\", \"showlakes\": true, \"showland\": true, \"subunitcolor\": \"white\"}, \"hoverlabel\": {\"align\": \"left\"}, \"hovermode\": \"closest\", \"mapbox\": {\"style\": \"light\"}, \"paper_bgcolor\": \"white\", \"plot_bgcolor\": \"#E5ECF6\", \"polar\": {\"angularaxis\": {\"gridcolor\": \"white\", \"linecolor\": \"white\", \"ticks\": \"\"}, \"bgcolor\": \"#E5ECF6\", \"radialaxis\": {\"gridcolor\": \"white\", \"linecolor\": \"white\", \"ticks\": \"\"}}, \"scene\": {\"xaxis\": {\"backgroundcolor\": \"#E5ECF6\", \"gridcolor\": \"white\", \"gridwidth\": 2, \"linecolor\": \"white\", \"showbackground\": true, \"ticks\": \"\", \"zerolinecolor\": \"white\"}, \"yaxis\": {\"backgroundcolor\": \"#E5ECF6\", \"gridcolor\": \"white\", \"gridwidth\": 2, \"linecolor\": \"white\", \"showbackground\": true, \"ticks\": \"\", \"zerolinecolor\": \"white\"}, \"zaxis\": {\"backgroundcolor\": \"#E5ECF6\", \"gridcolor\": \"white\", \"gridwidth\": 2, \"linecolor\": \"white\", \"showbackground\": true, \"ticks\": \"\", \"zerolinecolor\": \"white\"}}, \"shapedefaults\": {\"line\": {\"color\": \"#2a3f5f\"}}, \"ternary\": {\"aaxis\": {\"gridcolor\": \"white\", \"linecolor\": \"white\", \"ticks\": \"\"}, \"baxis\": {\"gridcolor\": \"white\", \"linecolor\": \"white\", \"ticks\": \"\"}, \"bgcolor\": \"#E5ECF6\", \"caxis\": {\"gridcolor\": \"white\", \"linecolor\": \"white\", \"ticks\": \"\"}}, \"title\": {\"x\": 0.05}, \"xaxis\": {\"automargin\": true, \"gridcolor\": \"white\", \"linecolor\": \"white\", \"ticks\": \"\", \"title\": {\"standoff\": 15}, \"zerolinecolor\": \"white\", \"zerolinewidth\": 2}, \"yaxis\": {\"automargin\": true, \"gridcolor\": \"white\", \"linecolor\": \"white\", \"ticks\": \"\", \"title\": {\"standoff\": 15}, \"zerolinecolor\": \"white\", \"zerolinewidth\": 2}}}, \"title\": {\"text\": \"Slice Plot\"}, \"xaxis\": {\"anchor\": \"y\", \"domain\": [0.0, 0.2888888888888889], \"title\": {\"text\": \"criterion\"}}, \"xaxis2\": {\"anchor\": \"y2\", \"domain\": [0.35555555555555557, 0.6444444444444445], \"title\": {\"text\": \"max_depth\"}}, \"xaxis3\": {\"anchor\": \"y3\", \"domain\": [0.7111111111111111, 1.0], \"title\": {\"text\": \"n_estimators\"}}, \"yaxis\": {\"anchor\": \"x\", \"domain\": [0.0, 1.0], \"title\": {\"text\": \"Objective Value\"}}, \"yaxis2\": {\"anchor\": \"x2\", \"domain\": [0.0, 1.0], \"matches\": \"y\", \"showticklabels\": false}, \"yaxis3\": {\"anchor\": \"x3\", \"domain\": [0.0, 1.0], \"matches\": \"y\", \"showticklabels\": false}},\n",
              "                        {\"responsive\": true}\n",
              "                    ).then(function(){\n",
              "                            \n",
              "var gd = document.getElementById('118a4c70-a0c4-4593-8a0e-e1fdfb8734ce');\n",
              "var x = new MutationObserver(function (mutations, observer) {{\n",
              "        var display = window.getComputedStyle(gd).display;\n",
              "        if (!display || display === 'none') {{\n",
              "            console.log([gd, 'removed!']);\n",
              "            Plotly.purge(gd);\n",
              "            observer.disconnect();\n",
              "        }}\n",
              "}});\n",
              "\n",
              "// Listen for the removal of the full notebook cells\n",
              "var notebookContainer = gd.closest('#notebook-container');\n",
              "if (notebookContainer) {{\n",
              "    x.observe(notebookContainer, {childList: true});\n",
              "}}\n",
              "\n",
              "// Listen for the clearing of the current output cell\n",
              "var outputEl = gd.closest('.output');\n",
              "if (outputEl) {{\n",
              "    x.observe(outputEl, {childList: true});\n",
              "}}\n",
              "\n",
              "                        })\n",
              "                };\n",
              "                \n",
              "            </script>\n",
              "        </div>\n",
              "</body>\n",
              "</html>"
            ]
          },
          "metadata": {
            "tags": []
          }
        }
      ]
    },
    {
      "cell_type": "code",
      "metadata": {
        "id": "r5z-DhSuPMF8",
        "colab_type": "code",
        "colab": {
          "base_uri": "https://localhost:8080/",
          "height": 55
        },
        "outputId": "ae5ef536-20a5-4b2c-c693-ceb00eab36f9"
      },
      "source": [
        "\n",
        "trial"
      ],
      "execution_count": 47,
      "outputs": [
        {
          "output_type": "execute_result",
          "data": {
            "text/plain": [
              "FrozenTrial(number=29, value=0.39546731804528235, datetime_start=datetime.datetime(2020, 9, 19, 10, 32, 32, 645213), datetime_complete=datetime.datetime(2020, 9, 19, 10, 32, 34, 52679), params={'criterion': 'mse', 'max_depth': 3, 'n_estimators': 320}, distributions={'criterion': CategoricalDistribution(choices=('mse', 'mae')), 'max_depth': IntLogUniformDistribution(high=32, low=2, step=1), 'n_estimators': IntUniformDistribution(high=500, low=100, step=1)}, user_attrs={}, system_attrs={}, intermediate_values={}, trial_id=29, state=TrialState.COMPLETE)"
            ]
          },
          "metadata": {
            "tags": []
          },
          "execution_count": 47
        }
      ]
    },
    {
      "cell_type": "code",
      "metadata": {
        "id": "PCjQ2JSF4qST",
        "colab_type": "code",
        "colab": {
          "base_uri": "https://localhost:8080/",
          "height": 35
        },
        "outputId": "cd1dab41-1f31-49c8-b7be-df193de076fa"
      },
      "source": [
        "study.best_params\n"
      ],
      "execution_count": 48,
      "outputs": [
        {
          "output_type": "execute_result",
          "data": {
            "text/plain": [
              "{'criterion': 'mse', 'max_depth': 3, 'n_estimators': 320}"
            ]
          },
          "metadata": {
            "tags": []
          },
          "execution_count": 48
        }
      ]
    },
    {
      "cell_type": "code",
      "metadata": {
        "id": "vA60S3qo45XZ",
        "colab_type": "code",
        "colab": {}
      },
      "source": [
        ""
      ],
      "execution_count": 30,
      "outputs": []
    },
    {
      "cell_type": "code",
      "metadata": {
        "id": "4MqTvoF55iCj",
        "colab_type": "code",
        "colab": {}
      },
      "source": [
        ""
      ],
      "execution_count": null,
      "outputs": []
    },
    {
      "cell_type": "code",
      "metadata": {
        "id": "iSkxGWYX5VB9",
        "colab_type": "code",
        "colab": {}
      },
      "source": [
        "X=df.iloc[:,:-1]\n",
        "y=df.iloc[:,-1]\n",
        "X_train,X_test,y_train,y_test=train_test_split(X,y,test_size=0.20,random_state=0)\n"
      ],
      "execution_count": 49,
      "outputs": []
    },
    {
      "cell_type": "code",
      "metadata": {
        "id": "9hKdaSsA5gDF",
        "colab_type": "code",
        "colab": {}
      },
      "source": [
        "tuned=RandomForestRegressor(n_estimators=320,max_depth=3,criterion='mse')"
      ],
      "execution_count": 50,
      "outputs": []
    },
    {
      "cell_type": "code",
      "metadata": {
        "id": "MAFLPxhE5xmW",
        "colab_type": "code",
        "colab": {
          "base_uri": "https://localhost:8080/",
          "height": 139
        },
        "outputId": "b728b2eb-7b01-4cc4-c81d-d7fd4ae24639"
      },
      "source": [
        "tuned.fit(X_train,y_train)"
      ],
      "execution_count": 51,
      "outputs": [
        {
          "output_type": "execute_result",
          "data": {
            "text/plain": [
              "RandomForestRegressor(bootstrap=True, ccp_alpha=0.0, criterion='mse',\n",
              "                      max_depth=3, max_features='auto', max_leaf_nodes=None,\n",
              "                      max_samples=None, min_impurity_decrease=0.0,\n",
              "                      min_impurity_split=None, min_samples_leaf=1,\n",
              "                      min_samples_split=2, min_weight_fraction_leaf=0.0,\n",
              "                      n_estimators=320, n_jobs=None, oob_score=False,\n",
              "                      random_state=None, verbose=0, warm_start=False)"
            ]
          },
          "metadata": {
            "tags": []
          },
          "execution_count": 51
        }
      ]
    },
    {
      "cell_type": "code",
      "metadata": {
        "id": "0PVYyDK76Pat",
        "colab_type": "code",
        "colab": {}
      },
      "source": [
        "y_prediction=tuned.predict(X_test)"
      ],
      "execution_count": 52,
      "outputs": []
    },
    {
      "cell_type": "code",
      "metadata": {
        "id": "LB_bvYZu52qe",
        "colab_type": "code",
        "colab": {}
      },
      "source": [
        "from sklearn import metrics"
      ],
      "execution_count": 53,
      "outputs": []
    },
    {
      "cell_type": "code",
      "metadata": {
        "id": "xkLC9qK95-bC",
        "colab_type": "code",
        "colab": {
          "base_uri": "https://localhost:8080/",
          "height": 35
        },
        "outputId": "ad600302-3076-49ca-c20f-fe4e8302c7b1"
      },
      "source": [
        "sklearn.metrics.mean_squared_error(y_test,y_prediction)"
      ],
      "execution_count": 54,
      "outputs": [
        {
          "output_type": "execute_result",
          "data": {
            "text/plain": [
              "3584.571960357996"
            ]
          },
          "metadata": {
            "tags": []
          },
          "execution_count": 54
        }
      ]
    },
    {
      "cell_type": "code",
      "metadata": {
        "id": "XFF1FRok6bA6",
        "colab_type": "code",
        "colab": {}
      },
      "source": [
        "import matplotlib.pyplot as plt\n"
      ],
      "execution_count": 55,
      "outputs": []
    },
    {
      "cell_type": "code",
      "metadata": {
        "id": "Y7nTC6RR6mb9",
        "colab_type": "code",
        "colab": {
          "base_uri": "https://localhost:8080/",
          "height": 283
        },
        "outputId": "6fd32a54-2ecc-44fe-ffdb-3e82c431ecec"
      },
      "source": [
        "plt.scatter(y_test,y_prediction)"
      ],
      "execution_count": 56,
      "outputs": [
        {
          "output_type": "execute_result",
          "data": {
            "text/plain": [
              "<matplotlib.collections.PathCollection at 0x7f43260f3c50>"
            ]
          },
          "metadata": {
            "tags": []
          },
          "execution_count": 56
        },
        {
          "output_type": "display_data",
          "data": {
            "image/png": "[encoded data removed]",
            "text/plain": [
              "<Figure size 432x288 with 1 Axes>"
            ]
          },
          "metadata": {
            "tags": [],
            "needs_background": "light"
          }
        }
      ]
    },
    {
      "cell_type": "code",
      "metadata": {
        "id": "SVJS_2i26rYU",
        "colab_type": "code",
        "colab": {
          "base_uri": "https://localhost:8080/",
          "height": 87
        },
        "outputId": "1af6b0d1-833a-4be6-e72c-2bfc6d456c6f"
      },
      "source": [
        "import seaborn as sns"
      ],
      "execution_count": 57,
      "outputs": [
        {
          "output_type": "stream",
          "text": [
            "/usr/local/lib/python3.6/dist-packages/statsmodels/tools/_testing.py:19: FutureWarning:\n",
            "\n",
            "pandas.util.testing is deprecated. Use the functions in the public API at pandas.testing instead.\n",
            "\n"
          ],
          "name": "stderr"
        }
      ]
    },
    {
      "cell_type": "code",
      "metadata": {
        "id": "kX1_5Z8L8dsM",
        "colab_type": "code",
        "colab": {
          "base_uri": "https://localhost:8080/",
          "height": 297
        },
        "outputId": "8c1e5544-8759-4b84-cb3b-c56d3f0b72a7"
      },
      "source": [
        "sns.distplot(y_test-y_prediction)"
      ],
      "execution_count": 58,
      "outputs": [
        {
          "output_type": "execute_result",
          "data": {
            "text/plain": [
              "<matplotlib.axes._subplots.AxesSubplot at 0x7f432532eef0>"
            ]
          },
          "metadata": {
            "tags": []
          },
          "execution_count": 58
        },
        {
          "output_type": "display_data",
          "data": {
            "image/png": "[encoded data removed]",
            "text/plain": [
              "<Figure size 432x288 with 1 Axes>"
            ]
          },
          "metadata": {
            "tags": [],
            "needs_background": "light"
          }
        }
      ]
    },
    {
      "cell_type": "code",
      "metadata": {
        "id": "KOCqWX_M8mkQ",
        "colab_type": "code",
        "colab": {}
      },
      "source": [
        ""
      ],
      "execution_count": null,
      "outputs": []
    }
  ]
}